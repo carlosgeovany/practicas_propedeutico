{
 "cells": [
  {
   "cell_type": "markdown",
   "metadata": {},
   "source": [
    "# Elementos de Inferencia"
   ]
  },
  {
   "cell_type": "markdown",
   "metadata": {},
   "source": [
    "### Ejercicio 2"
   ]
  },
  {
   "cell_type": "markdown",
   "metadata": {},
   "source": [
    "Una máquina empaca bolsas de almendras, cuyo contenido es aleatorio y distribuido normalmente con media $250$ grs. y desviación estándar de $4$ grs. El departamento de control de calidad tomó una muestra aleatoria de $16$ bolsas con una cantidad media de $247$ grs. Supóngase que se desean contrastar las hipótesis:"
   ]
  },
  {
   "cell_type": "markdown",
   "metadata": {},
   "source": [
    "$$H_0 : \\mu = 250$$"
   ]
  },
  {
   "cell_type": "markdown",
   "metadata": {},
   "source": [
    "$$H_a : \\mu \\neq 250$$"
   ]
  },
  {
   "cell_type": "markdown",
   "metadata": {},
   "source": [
    "Para un nivel de significancia de $.05$ y determinar si se debe detener el proceso para ajustar la máquina al rechazar $H_0$. Realícense gráficas donde se visualice la región de rechazo definida para el nivel de significancia dado, el valor observado de la estadística de prueba y valor(es) crítico(s). ¿Hay que hacer ajuste a la máquina y detener el proceso? ¿la prueba anterior es de una o dos colas?."
   ]
  },
  {
   "cell_type": "markdown",
   "metadata": {},
   "source": [
    "El valor p se calcula como:\n",
    "\n",
    "$$P(\\mu  \\neq \\mu_{obs} | H_0 verdadera ) = P(\\mu < \\mu_{obs} | H_0 verdadera) + P( \\mu > \\mu_{obs} | H_0 verdadera)$$\n",
    "\n",
    "Dado que contamos con la media y la desviación estándar podemos calcular la probabilidad con:\n",
    "\n",
    "$$\\frac{\\bar{X} - \\bar{x}}{S\\text{ / }\\sqrt{n}} \\sim N(0,1)$$\n",
    "\n",
    "Dónde $\\bar{X}$ es la media observada de los $n$ valores de $X$, $\\bar{x}$ es la media estadísitca de la prueba, $S$ es la desviación estándar y $n$ una muestra aleatoria de los posibles valores de $X$"
   ]
  },
  {
   "cell_type": "markdown",
   "metadata": {},
   "source": [
    "**Nota:**     \n",
    "Implementación basada en [Prueba para la media, Gutierrez Pulido. p.34](http://gc.initelabs.com/recursos/files/r161r/w19537w/analisis_y_diseno_experimentos.pdf)"
   ]
  },
  {
   "cell_type": "code",
   "execution_count": 1,
   "metadata": {},
   "outputs": [
    {
     "data": {
      "text/html": [
       "-3"
      ],
      "text/latex": [
       "-3"
      ],
      "text/markdown": [
       "-3"
      ],
      "text/plain": [
       "[1] -3"
      ]
     },
     "metadata": {},
     "output_type": "display_data"
    }
   ],
   "source": [
    "mu <- 250\n",
    "mu_obs <- 247\n",
    "n <- 16\n",
    "s <- 4\n",
    "a <- 0.05\n",
    "obs_test_statistic  <- (mu_obs-mu)/(s/sqrt(n))\n",
    "obs_test_statistic"
   ]
  },
  {
   "cell_type": "markdown",
   "metadata": {},
   "source": [
    "y el valor p entonces es:\n",
    "$$P(\\mu  \\neq \\mu_{obs} | H_0 verdadera )= P\\left(\\frac{247 - 250}{4\\text{ / }\\sqrt{16}} \\right) = P(-3) \\approx 0.002699 ,$$donde $Z \\sim N(0,1)$."
   ]
  },
  {
   "cell_type": "code",
   "execution_count": 48,
   "metadata": {},
   "outputs": [
    {
     "data": {
      "text/html": [
       "0.00269979606326019"
      ],
      "text/latex": [
       "0.00269979606326019"
      ],
      "text/markdown": [
       "0.00269979606326019"
      ],
      "text/plain": [
       "[1] 0.002699796"
      ]
     },
     "metadata": {},
     "output_type": "display_data"
    }
   ],
   "source": [
    "p_value <- pnorm(obs_test_statistic)\n",
    "2*p_value"
   ]
  },
  {
   "cell_type": "code",
   "execution_count": 3,
   "metadata": {},
   "outputs": [],
   "source": [
    "library(ggplot2)\n",
    "library(latex2exp)"
   ]
  },
  {
   "cell_type": "code",
   "execution_count": 4,
   "metadata": {},
   "outputs": [
    {
     "name": "stdout",
     "output_type": "stream",
     "text": [
      "[1] -1.959964\n",
      "[1] 1.959964\n"
     ]
    }
   ],
   "source": [
    "alpha_divided_by_2 = a / 2\n",
    "quantile_left = qnorm(alpha_divided_by_2)\n",
    "quantile_right = -qnorm(alpha_divided_by_2)\n",
    "print(quantile_left)\n",
    "print(quantile_right)"
   ]
  },
  {
   "cell_type": "code",
   "execution_count": 23,
   "metadata": {},
   "outputs": [],
   "source": [
    "set.seed(2000)\n",
    "n <- 5000\n",
    "df <- data.frame(x=rnorm(n))\n",
    "y <- dnorm(df$x)\n",
    "df$y <- y"
   ]
  },
  {
   "cell_type": "code",
   "execution_count": 31,
   "metadata": {},
   "outputs": [],
   "source": [
    "gf <- ggplot(data = df, aes(x = x, y = y)) + geom_point(size=.2) + \n",
    "      theme(plot.title = element_text(size = 20, hjust = 0.5))"
   ]
  },
  {
   "cell_type": "code",
   "execution_count": 50,
   "metadata": {},
   "outputs": [
    {
     "name": "stderr",
     "output_type": "stream",
     "text": [
      "Warning message in is.na(x):\n",
      "\"is.na() applied to non-(list or vector) of type 'expression'\"\n",
      "Warning message in is.na(x):\n",
      "\"is.na() applied to non-(list or vector) of type 'expression'\"\n"
     ]
    },
    {
     "data": {
      "image/png": "[encoded data removed]",
      "text/plain": [
       "plot without title"
      ]
     },
     "metadata": {
      "image/png": {
       "height": 420,
       "width": 420
      }
     },
     "output_type": "display_data"
    }
   ],
   "source": [
    "gf + geom_line(color=\"blue\")+\n",
    "geom_area(mapping = aes(x = ifelse(x < quantile_left, \n",
    "                                   x, quantile_left\n",
    "                                   ),\n",
    "                        y = ifelse(x < quantile_left, y, 0)), \n",
    "          fill = \"deepskyblue1\") + \n",
    "geom_area(mapping = aes(x = ifelse(x > quantile_right, \n",
    "                                   x, quantile_right\n",
    "                                   ),\n",
    "                        y = ifelse(x > quantile_right, y, 0)), \n",
    "          fill = \"deepskyblue1\") + \n",
    "geom_segment(aes(x = quantile_left, \n",
    "                 y = 0, \n",
    "                 xend = quantile_left, \n",
    "                 yend = dnorm(quantile_left)\n",
    "                 ),\n",
    "              colour = \"blue\"\n",
    "             ) +\n",
    "geom_segment(aes(x = quantile_right, \n",
    "                 y = 0, \n",
    "                 xend = quantile_right, \n",
    "                 yend = dnorm(quantile_right)\n",
    "                 ),\n",
    "              colour = \"blue\"\n",
    "             ) +\n",
    "geom_segment(aes(x = obs_test_statistic, \n",
    "                 y = 0, \n",
    "                 xend = obs_test_statistic, \n",
    "                 yend = 0.4\n",
    "                 ),\n",
    "              colour = \"red\",\n",
    "              linetype = \"dotted\",\n",
    "              size = 1\n",
    "             ) +\n",
    "geom_text(x = quantile_left -  3e-1, y = -7e-3, label = \"-1.96\", size = 5) + \n",
    "geom_text(x = quantile_right + 3e-1, y = -7e-3, label = \"1.96\", size = 5) + \n",
    "geom_text(x = -0.01, y = 0.001, label = \"Región de\\naceptación\", size = 5) + \n",
    "geom_text(x = obs_test_statistic , y = -7e-3, label = \"-3\", colour=\"red\", size = 4) + \n",
    "geom_text(x = -2.2,y = 2e-2,label = TeX(\"$\\\\frac{\\\\alpha}{2}$\"), size = 4 ) +\n",
    "geom_text(x = 2.2,y = 2e-2,label = TeX(\"$\\\\frac{\\\\alpha}{2}$\"), size = 4 ) +\n",
    "ggtitle(\"Hipótesis Bilateral o de dos colas\")"
   ]
  },
  {
   "cell_type": "markdown",
   "metadata": {},
   "source": [
    "### Conclusión"
   ]
  },
  {
   "cell_type": "markdown",
   "metadata": {},
   "source": [
    "### Hipótesis bilateral o de dos colas\n",
    "\n",
    "**Nota:**     \n",
    "Tomado de [Gutierrez Pulido. p 32](http://gc.initelabs.com/recursos/files/r161r/w19537w/analisis_y_diseno_experimentos.pdf)\n",
    "\n",
    "La región de rechazo está repartida de manera equitativa entre ambas colas de la distribución del estadístico de prueba.\n",
    "Si las hipótesis están dadas por las relaciones: \n",
    "\n",
    "$$H_0 : \\mu = 250$$\n",
    "$$H_a : \\mu \\neq 250$$\n",
    "\n",
    "Se rechaza $H_0$ si $P(Z) < – Z_{\\alpha/2}$ o si $P(Z) > Z_{\\alpha/2}$, o simplemente, si $|Z| > Z_{\\alpha/2}$. En la gráfica esto equivale a que $Z$ caiga en el rango de las áreas sombreadas."
   ]
  },
  {
   "cell_type": "markdown",
   "metadata": {},
   "source": [
    "Por lo tanto, rehcazamos $H_0$ ya que $P(Z) < -Z_{\\alpha/2}$     \n",
    "\n",
    "Esto es consistente con que $Z$ se encuentra dentro de la región de significancia para $\\frac{\\alpha}{2} = 0.025$.    \n",
    "\n",
    "Con esta información consideramos que **se debe detener el proceso y reajustar la máquina.**"
   ]
  }
 ],
 "metadata": {
  "kernelspec": {
   "display_name": "R",
   "language": "R",
   "name": "ir"
  },
  "language_info": {
   "codemirror_mode": "r",
   "file_extension": ".r",
   "mimetype": "text/x-r-source",
   "name": "R",
   "pygments_lexer": "r",
   "version": "4.0.2"
  }
 },
 "nbformat": 4,
 "nbformat_minor": 4
}
