{
 "cells": [
  {
   "cell_type": "markdown",
   "metadata": {},
   "source": [
    "# Práctica Semanal 1"
   ]
  },
  {
   "cell_type": "markdown",
   "metadata": {},
   "source": [
    "## El objetivo de esta práctica es realizar ejemplos básicos popuestos por el libro \"Numerical Methods in Engineering with Python3\" de J. Kiusalaas <br><br> \n",
    "<img src=\"http://drive.google.com/uc?export=view&id=1oOMw7TaDT3sEErxkeYs0JdykME8ETwCK\">"
   ]
  },
  {
   "cell_type": "markdown",
   "metadata": {},
   "source": [
    "### Los ejercicios que realizaremos son los siguientes:\n",
    "- Variables, strings, tuples, listas.\n",
    "- Operadores aritméticos y operadores de comparación.\n",
    "- Condicionales.\n",
    "- Loops.\n",
    "- Conversión de tipo.\n",
    "- Funciones matemáticas.\n",
    "- Input/Output.\n",
    "- Abrir/Cerrar un archivo.\n",
    "- Control de errores"
   ]
  },
  {
   "cell_type": "markdown",
   "metadata": {},
   "source": [
    "Leemos un archivo tipo txt e iteramos su contenido línea por línea, obteniendo las columnas que nos interesan para crear un diccionario.\n",
    "\n",
    "En caso de que nuestro archivo no exista, cachamos el error y devolmemos un mensaje "
   ]
  },
  {
   "cell_type": "code",
   "execution_count": 136,
   "metadata": {},
   "outputs": [],
   "source": [
    "#definimos unas listas donde guardar nuestros valores\n",
    "ticket = []\n",
    "carrier = []\n",
    "track = []\n",
    "#en caso de un error al leer el archivo, cachamos el error e imprimimos un mensaje\n",
    "try:\n",
    "    with open(\"test.txt\", 'r', encoding='utf8') as f:\n",
    "        lines = f.readlines()[5:]\n",
    "        for line in lines:\n",
    "            ticket.append(line[12:23])\n",
    "            carrier.append(line[181:194])\n",
    "            track.append(line[194:230])\n",
    "except Exception as e:\n",
    "        print ('Error occurred:\\n' + str(e))            "
   ]
  },
  {
   "cell_type": "markdown",
   "metadata": {},
   "source": [
    "Limpiamos nuestras listas removiendo los espacios en blanco mediante una función que hemos creado"
   ]
  },
  {
   "cell_type": "code",
   "execution_count": 137,
   "metadata": {},
   "outputs": [],
   "source": [
    "#función que recibe una lista de tipo string y remueve los espacios en blanco que tenga cada elemento y regresa una lista\n",
    "def strip_list(l):\n",
    "    return[x.strip() for x in l]"
   ]
  },
  {
   "cell_type": "code",
   "execution_count": 138,
   "metadata": {},
   "outputs": [],
   "source": [
    "#mandamos a llamar a nuestra función\n",
    "ticket = strip_list(ticket)\n",
    "carrier = strip_list(carrier)\n",
    "track = strip_list(track)"
   ]
  },
  {
   "cell_type": "markdown",
   "metadata": {},
   "source": [
    "Unimos nuestras listas para crear un diccionario con el ticket como llave y carrier y track como valores"
   ]
  },
  {
   "cell_type": "code",
   "execution_count": 139,
   "metadata": {},
   "outputs": [],
   "source": [
    "#unimos tres listas para crear un diccionario\n",
    "dic = dict(zip(ticket, zip(carrier, track)))"
   ]
  },
  {
   "cell_type": "markdown",
   "metadata": {},
   "source": [
    "Así luce nuestro diccionario"
   ]
  },
  {
   "cell_type": "code",
   "execution_count": 140,
   "metadata": {},
   "outputs": [
    {
     "name": "stdout",
     "output_type": "stream",
     "text": [
      "Diccionario:\n",
      "{'56620283': ('PURO', 'PUROLATOR-GRH000275944'), '56620060': ('PURO', 'PUROLATOR-GRH000275952'), '56619439': ('PURO', 'PUROLATOR-GRH000275969'), '56620068': ('PURO', 'PUROLATOR-GRH000275992'), '56619945': ('PURO', 'PUROLATOR-GRH000275819'), '56619810': ('OTHER', 'FLASH ORDER# IS : 107918'), '56617926': ('OTHER', 'EMO-HOLD-FIX'), '56620184': ('UPS', '1Z78E26E0253054091'), '56619467': ('OTHER', 'FLASH ORDER# IS : 107913'), '56618852': ('OTHER', 'EMO-HOLD-FIX'), '56619376': ('OTHER', 'FLASH ORDER# IS : 107912'), '56619954': ('UPS', '1Z78E26E0153060497'), '56619814': ('UPS', '1Z78E26E0253053832'), '56620229': ('PULT', '332233363891'), '56618800': ('OTHER', 'EMO-HOLD-FIX'), '56620243': ('UPS', '1Z78E26E0153058759'), '56620261': ('UPS', '1Z78E26E0153054459'), '56619450': ('OTHER', 'EMO-HOLD-FIX'), '56619805': ('UPS', '1Z78E26E0253056795'), '56620213': ('UPS', '1Z78E26E0253054144'), '56620437': ('PURO', 'PUROLATOR-GRH000275876'), '56620417': ('PURO', 'PUROLATOR-GRH000275839'), '56620358': ('PURO', 'PUROLATOR-GRH000275818')}\n"
     ]
    }
   ],
   "source": [
    "print(\"Diccionario:\")\n",
    "print(dic)"
   ]
  },
  {
   "cell_type": "markdown",
   "metadata": {},
   "source": [
    "Vamos a eliminar del diccionario aquellos elementos cuyo valor no sea UPS, ya que nuestro diccionario tiene dos campos de valor, debemos acceder al primer valor con el índice 0"
   ]
  },
  {
   "cell_type": "code",
   "execution_count": 141,
   "metadata": {},
   "outputs": [],
   "source": [
    "#recorremos nuestro diccionario y eliminamos los elementos cuyo valor no sea 'UPS'\n",
    "for key, value in dict(dic).items():\n",
    "        if value[0] != 'UPS':\n",
    "            del dic[key]"
   ]
  },
  {
   "cell_type": "code",
   "execution_count": 142,
   "metadata": {},
   "outputs": [
    {
     "name": "stdout",
     "output_type": "stream",
     "text": [
      "Diccionario:\n",
      "{'56620184': ('UPS', '1Z78E26E0253054091'), '56619954': ('UPS', '1Z78E26E0153060497'), '56619814': ('UPS', '1Z78E26E0253053832'), '56620243': ('UPS', '1Z78E26E0153058759'), '56620261': ('UPS', '1Z78E26E0153054459'), '56619805': ('UPS', '1Z78E26E0253056795'), '56620213': ('UPS', '1Z78E26E0253054144')}\n"
     ]
    }
   ],
   "source": [
    "print(\"Diccionario:\")\n",
    "print(dic)"
   ]
  },
  {
   "cell_type": "markdown",
   "metadata": {},
   "source": [
    "Vamos a cambiar el tipo de la llave de str a int"
   ]
  },
  {
   "cell_type": "code",
   "execution_count": 143,
   "metadata": {},
   "outputs": [],
   "source": [
    "#solo vamos a convertir el valor de las llaves\n",
    "dic = {int(k):[i for i in v] for k,v in dic.items()}"
   ]
  },
  {
   "cell_type": "code",
   "execution_count": 144,
   "metadata": {},
   "outputs": [
    {
     "data": {
      "text/plain": [
       "{56620184: ['UPS', '1Z78E26E0253054091'],\n",
       " 56619954: ['UPS', '1Z78E26E0153060497'],\n",
       " 56619814: ['UPS', '1Z78E26E0253053832'],\n",
       " 56620243: ['UPS', '1Z78E26E0153058759'],\n",
       " 56620261: ['UPS', '1Z78E26E0153054459'],\n",
       " 56619805: ['UPS', '1Z78E26E0253056795'],\n",
       " 56620213: ['UPS', '1Z78E26E0253054144']}"
      ]
     },
     "execution_count": 144,
     "metadata": {},
     "output_type": "execute_result"
    }
   ],
   "source": [
    "dic"
   ]
  },
  {
   "cell_type": "markdown",
   "metadata": {},
   "source": [
    "De esta manera podemos realizar algunas funciones matematicas sobre las llaves como max, min, etc"
   ]
  },
  {
   "cell_type": "code",
   "execution_count": 145,
   "metadata": {},
   "outputs": [
    {
     "name": "stdout",
     "output_type": "stream",
     "text": [
      "El maximo valor de las llaves es: 56620261\n"
     ]
    }
   ],
   "source": [
    "print(\"El maximo valor de las llaves es: \" + str(max(dic)))"
   ]
  },
  {
   "cell_type": "code",
   "execution_count": 146,
   "metadata": {},
   "outputs": [
    {
     "name": "stdout",
     "output_type": "stream",
     "text": [
      "El minimo valor de las llaves es: 56619805\n"
     ]
    }
   ],
   "source": [
    "print(\"El minimo valor de las llaves es: \" + str(min(dic)))"
   ]
  },
  {
   "cell_type": "markdown",
   "metadata": {},
   "source": [
    "Finalmente vamos a escribir nuestro diccionario a un nuevo archivo de texto llamado UPS"
   ]
  },
  {
   "cell_type": "code",
   "execution_count": 147,
   "metadata": {},
   "outputs": [],
   "source": [
    "#Debido a que no podemos escribir directamente nuestro direccionario a un archivo, antes debemos serializarlo con la ayuda de la librería json\n",
    "import json\n",
    "\n",
    "#en caso de que no podamos hacer la escritura al archivo, mcachamos la excepción e imprimimos un mensaje\n",
    "try:\n",
    "    with open('UPS.txt', 'w') as f:\n",
    "        f.write(json.dumps(dic))\n",
    "except Exception as e:\n",
    "        print ('Error occurred:\\n' + str(e))   "
   ]
  }
 ],
 "metadata": {
  "kernelspec": {
   "display_name": "Python 3",
   "language": "python",
   "name": "python3"
  },
  "language_info": {
   "codemirror_mode": {
    "name": "ipython",
    "version": 3
   },
   "file_extension": ".py",
   "mimetype": "text/x-python",
   "name": "python",
   "nbconvert_exporter": "python",
   "pygments_lexer": "ipython3",
   "version": "3.6.5"
  }
 },
 "nbformat": 4,
 "nbformat_minor": 4
}
