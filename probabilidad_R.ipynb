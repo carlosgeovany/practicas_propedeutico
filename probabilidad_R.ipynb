{
 "cells": [
  {
   "cell_type": "markdown",
   "metadata": {},
   "source": [
    "# Experimentos de probabilidad en R"
   ]
  },
  {
   "cell_type": "markdown",
   "metadata": {},
   "source": [
    "Usando la librería prob de R"
   ]
  },
  {
   "cell_type": "code",
   "execution_count": 2,
   "metadata": {
    "collapsed": true,
    "jupyter": {
     "outputs_hidden": true
    }
   },
   "outputs": [
    {
     "name": "stderr",
     "output_type": "stream",
     "text": [
      "Loading required package: combinat\n",
      "\n",
      "\n",
      "Attaching package: 'combinat'\n",
      "\n",
      "\n",
      "The following object is masked from 'package:utils':\n",
      "\n",
      "    combn\n",
      "\n",
      "\n",
      "Loading required package: fAsianOptions\n",
      "\n",
      "Loading required package: timeDate\n",
      "\n",
      "Loading required package: timeSeries\n",
      "\n",
      "Loading required package: fBasics\n",
      "\n",
      "Loading required package: fOptions\n",
      "\n",
      "\n",
      "Attaching package: 'prob'\n",
      "\n",
      "\n",
      "The following objects are masked from 'package:base':\n",
      "\n",
      "    intersect, setdiff, union\n",
      "\n",
      "\n",
      "\n",
      "Attaching package: 'matlab'\n",
      "\n",
      "\n",
      "The following object is masked from 'package:fBasics':\n",
      "\n",
      "    pascal\n",
      "\n",
      "\n",
      "The following object is masked from 'package:stats':\n",
      "\n",
      "    reshape\n",
      "\n",
      "\n",
      "The following objects are masked from 'package:utils':\n",
      "\n",
      "    find, fix\n",
      "\n",
      "\n",
      "The following object is masked from 'package:base':\n",
      "\n",
      "    sum\n",
      "\n",
      "\n"
     ]
    }
   ],
   "source": [
    "library(prob)\n",
    "library(matlab)"
   ]
  },
  {
   "cell_type": "markdown",
   "metadata": {},
   "source": [
    "Ejercicio: ¿cómo calcular la probabilidad del lanzamiento de una moneda cargada con la función urnsamples?"
   ]
  },
  {
   "cell_type": "markdown",
   "metadata": {},
   "source": [
    "Supóngase que $P(\\{\\text{sol}\\}) = .7$ y $P(\\{\\text{águila}\\}) = .3$ entonces:"
   ]
  },
  {
   "cell_type": "code",
   "execution_count": 2,
   "metadata": {},
   "outputs": [
    {
     "data": {
      "text/html": [
       "<table>\n",
       "<caption>A data.frame: 2 × 2</caption>\n",
       "<thead>\n",
       "\t<tr><th scope=col>out</th><th scope=col>probs</th></tr>\n",
       "\t<tr><th scope=col>&lt;chr&gt;</th><th scope=col>&lt;dbl&gt;</th></tr>\n",
       "</thead>\n",
       "<tbody>\n",
       "\t<tr><td>sol   </td><td>0.7</td></tr>\n",
       "\t<tr><td>aguila</td><td>0.3</td></tr>\n",
       "</tbody>\n",
       "</table>\n"
      ],
      "text/latex": [
       "A data.frame: 2 × 2\n",
       "\\begin{tabular}{ll}\n",
       " out & probs\\\\\n",
       " <chr> & <dbl>\\\\\n",
       "\\hline\n",
       "\t sol    & 0.7\\\\\n",
       "\t aguila & 0.3\\\\\n",
       "\\end{tabular}\n"
      ],
      "text/markdown": [
       "\n",
       "A data.frame: 2 × 2\n",
       "\n",
       "| out &lt;chr&gt; | probs &lt;dbl&gt; |\n",
       "|---|---|\n",
       "| sol    | 0.7 |\n",
       "| aguila | 0.3 |\n",
       "\n"
      ],
      "text/plain": [
       "  out    probs\n",
       "1 sol    0.7  \n",
       "2 aguila 0.3  "
      ]
     },
     "metadata": {},
     "output_type": "display_data"
    }
   ],
   "source": [
    "x <- c('sol', 'aguila')\n",
    "p <- c(0.70, 0.30)\n",
    "probspace(urnsamples(x, size=1, replace = F, order = F), , probs = p)"
   ]
  },
  {
   "cell_type": "markdown",
   "metadata": {},
   "source": [
    "1) Durante 5 años el profesor X ha impartido el mismo curso. En total ha tenido 500 alumnos, de los cuales 80 se han dado de baja, 200 han reprobado y 220 han aprobado. Nos encontramos a uno de estos exalumnos. ¿Cuál es la probabilidad de que éste se haya dado de baja en el curso?"
   ]
  },
  {
   "cell_type": "code",
   "execution_count": 3,
   "metadata": {},
   "outputs": [
    {
     "name": "stdout",
     "output_type": "stream",
     "text": [
      "Probabilidad de que el alumno se haya dado de baja del curso es de:  0.16"
     ]
    }
   ],
   "source": [
    "x <- c('baja','reprobo','aprobo')\n",
    "p <- c(80/500, 200/500, 220/500)\n",
    "S <- probspace(urnsamples(x, size=1, replace = F, order = F), probs = p)\n",
    "baja <- subset(S, out == \"baja\")\n",
    "cat(\"Probabilidad de que el alumno se haya dado de baja del curso es de: \", Prob(baja))"
   ]
  },
  {
   "cell_type": "markdown",
   "metadata": {},
   "source": [
    "2) Una moneda se lanza al aire 300 veces y se obtienen 152 águilas y 148 soles. ¿Cuál es la probabilidad de sacar un águila?"
   ]
  },
  {
   "cell_type": "code",
   "execution_count": 4,
   "metadata": {},
   "outputs": [
    {
     "name": "stdout",
     "output_type": "stream",
     "text": [
      "Probabilidad de sacar un águila es de:  0.5066667"
     ]
    }
   ],
   "source": [
    "x <- c('sol', 'aguila')\n",
    "p <- c(148/300, 152/300)\n",
    "S <- probspace(urnsamples(x, size=1, replace = F, order = F), probs = p)\n",
    "aguila <- subset(S, out == \"aguila\")\n",
    "cat(\"Probabilidad de sacar un águila es de: \", Prob(aguila))"
   ]
  },
  {
   "cell_type": "markdown",
   "metadata": {},
   "source": [
    "3) El año pasado nacieron 1613 mujeres y 1531 hombres en la Delegación Coyoacán. Si se selecciona uno de estos bebes al azar, ¿cuál es la probabilidad de que sea niña?"
   ]
  },
  {
   "cell_type": "code",
   "execution_count": 5,
   "metadata": {},
   "outputs": [
    {
     "name": "stdout",
     "output_type": "stream",
     "text": [
      "Probabilidad de que sea niña es de:  0.5130407"
     ]
    }
   ],
   "source": [
    "x <- c('niña', 'niño')\n",
    "p <- c(1613/3144, 1531/3144)\n",
    "S <- probspace(urnsamples(x, size=1, replace = F, order = F), probs = p)\n",
    "nina <- subset(S, out == \"niña\")\n",
    "cat(\"Probabilidad de que sea niña es de: \", Prob(nina))"
   ]
  },
  {
   "cell_type": "markdown",
   "metadata": {},
   "source": [
    "4) Se lanza un dado de seis caras al aire. Sean los eventos $E=${el resultado es un número par} y $F=${el resultado es un número primo}. Calcular la probabilidad de “el resultado es un número par o un número primo”.\n",
    "\n",
    "La función $\\texttt {isprime( )}$ es parte de la librería de R [matlab](https://cran.r-project.org/web/packages/R.matlab/index.html)"
   ]
  },
  {
   "cell_type": "code",
   "execution_count": 6,
   "metadata": {},
   "outputs": [
    {
     "name": "stdout",
     "output_type": "stream",
     "text": [
      "Probabilidad de que el resultado sea un número par o un número primo es de:  0.8333333"
     ]
    }
   ],
   "source": [
    "S <- rolldie(1, makespace = TRUE)\n",
    "par_o_primo <- subset(S, X1  %% 2 == 0 | as.logical(isprime(X1)))\n",
    "cat(\"Probabilidad de que el resultado sea un número par o un número primo es de: \", Prob(par_o_primo))"
   ]
  },
  {
   "cell_type": "markdown",
   "metadata": {},
   "source": [
    "5) ¿Cuál es la probabilidad de tener exactamente dos hijos varones en una familia de tres hijos? ¿a lo más dos hijos varones?"
   ]
  },
  {
   "cell_type": "code",
   "execution_count": 5,
   "metadata": {},
   "outputs": [
    {
     "data": {
      "text/html": [
       "<table>\n",
       "<caption>A data.frame: 8 × 3</caption>\n",
       "<thead>\n",
       "\t<tr><th scope=col>X1</th><th scope=col>X2</th><th scope=col>X3</th></tr>\n",
       "\t<tr><th scope=col>&lt;chr&gt;</th><th scope=col>&lt;chr&gt;</th><th scope=col>&lt;chr&gt;</th></tr>\n",
       "</thead>\n",
       "<tbody>\n",
       "\t<tr><td>niña</td><td>niña</td><td>niña</td></tr>\n",
       "\t<tr><td>niño</td><td>niña</td><td>niña</td></tr>\n",
       "\t<tr><td>niña</td><td>niño</td><td>niña</td></tr>\n",
       "\t<tr><td>niño</td><td>niño</td><td>niña</td></tr>\n",
       "\t<tr><td>niña</td><td>niña</td><td>niño</td></tr>\n",
       "\t<tr><td>niño</td><td>niña</td><td>niño</td></tr>\n",
       "\t<tr><td>niña</td><td>niño</td><td>niño</td></tr>\n",
       "\t<tr><td>niño</td><td>niño</td><td>niño</td></tr>\n",
       "</tbody>\n",
       "</table>\n"
      ],
      "text/latex": [
       "A data.frame: 8 × 3\n",
       "\\begin{tabular}{lll}\n",
       " X1 & X2 & X3\\\\\n",
       " <chr> & <chr> & <chr>\\\\\n",
       "\\hline\n",
       "\t niña & niña & niña\\\\\n",
       "\t niño & niña & niña\\\\\n",
       "\t niña & niño & niña\\\\\n",
       "\t niño & niño & niña\\\\\n",
       "\t niña & niña & niño\\\\\n",
       "\t niño & niña & niño\\\\\n",
       "\t niña & niño & niño\\\\\n",
       "\t niño & niño & niño\\\\\n",
       "\\end{tabular}\n"
      ],
      "text/markdown": [
       "\n",
       "A data.frame: 8 × 3\n",
       "\n",
       "| X1 &lt;chr&gt; | X2 &lt;chr&gt; | X3 &lt;chr&gt; |\n",
       "|---|---|---|\n",
       "| niña | niña | niña |\n",
       "| niño | niña | niña |\n",
       "| niña | niño | niña |\n",
       "| niño | niño | niña |\n",
       "| niña | niña | niño |\n",
       "| niño | niña | niño |\n",
       "| niña | niño | niño |\n",
       "| niño | niño | niño |\n",
       "\n"
      ],
      "text/plain": [
       "  X1   X2   X3  \n",
       "1 niña niña niña\n",
       "2 niño niña niña\n",
       "3 niña niño niña\n",
       "4 niño niño niña\n",
       "5 niña niña niño\n",
       "6 niño niña niño\n",
       "7 niña niño niño\n",
       "8 niño niño niño"
      ]
     },
     "metadata": {},
     "output_type": "display_data"
    },
    {
     "name": "stdout",
     "output_type": "stream",
     "text": [
      "Probabilidad de tener exactamente dos hijos varones es de:  0.375"
     ]
    }
   ],
   "source": [
    "x <- c('niña', 'niño')\n",
    "S <- urnsamples(x, size=3, replace = T, order = T)\n",
    "S\n",
    "cat(\"Probabilidad de tener exactamente dos hijos varones es de: \", 3/8)"
   ]
  },
  {
   "cell_type": "markdown",
   "metadata": {},
   "source": [
    "6) Considera una baraja ¿cuál es la probabilidad de sacar un as? ¿de un corazón? ¿de un as de corazones? ¿de un as o de un corazón?"
   ]
  },
  {
   "cell_type": "code",
   "execution_count": 8,
   "metadata": {},
   "outputs": [],
   "source": [
    "S <- cards(makespace = TRUE)\n",
    "as <- subset(S, rank == \"A\")\n",
    "H <- subset(S, suit == \"Heart\")"
   ]
  },
  {
   "cell_type": "code",
   "execution_count": 9,
   "metadata": {},
   "outputs": [
    {
     "name": "stdout",
     "output_type": "stream",
     "text": [
      "Probabilidad de sacar un As:  0.07692308\n",
      "Probabilidad de sacar un corazón:  0.25\n",
      "Probabilidad de sacar un as de corazones:  0.01923077\n",
      "Probabilidad de sacar un as o de un corazón:  0.3076923"
     ]
    }
   ],
   "source": [
    "cat(\"Probabilidad de sacar un As: \", Prob(as))\n",
    "cat(\"\\n\")\n",
    "cat(\"Probabilidad de sacar un corazón: \", Prob(H))\n",
    "cat(\"\\n\")\n",
    "cat(\"Probabilidad de sacar un as de corazones: \", Prob(intersect(as,H)))\n",
    "cat(\"\\n\")\n",
    "cat(\"Probabilidad de sacar un as o de un corazón: \", Prob(union(as,H)))"
   ]
  },
  {
   "cell_type": "markdown",
   "metadata": {},
   "source": [
    "7) Un sondeo de opinión entre la población adulta acerca de si se desea una nueva línea del metro nos da los siguientes resultados:\n",
    "\n",
    "\n",
    "|----|A favor|En contra|Total|\n",
    "|:---:|:---:|:---:|:---:\n",
    "|Mujeres|210|50|260|\n",
    "|Hombres|180|60|240|\n",
    "|Total|390|110|500|\n",
    "\n",
    "Sea $F$ el evento “el encuestado es mujer” y $C$ el evento “está en contra de la nueva línea del Metro”. Calcular $P(F), P(C), P(F \\cap C), P(F \\cup C)$."
   ]
  },
  {
   "cell_type": "code",
   "execution_count": 10,
   "metadata": {},
   "outputs": [],
   "source": [
    "sexo <- c(\"Mujer\", \"Hombre\")\n",
    "sp <- c(260/500,240/500)\n",
    "opi <- c(\"A_favor\", \"En_contra\")\n",
    "op <- c(390/500,110/500)\n",
    "S <- probspace(urnsamples(sexo, size=1, replace = F, order = F), , probs = sp)\n",
    "O <- probspace(urnsamples(opi, size=1, replace = F, order = F), , probs = op)"
   ]
  },
  {
   "cell_type": "code",
   "execution_count": 11,
   "metadata": {},
   "outputs": [
    {
     "name": "stdout",
     "output_type": "stream",
     "text": [
      "Probabilidad del evento encuestada sea mujer:  0.52"
     ]
    }
   ],
   "source": [
    "mujer <- subset(S, out == \"Mujer\")\n",
    "cat(\"Probabilidad del evento encuestada sea mujer: \", Prob(mujer))"
   ]
  },
  {
   "cell_type": "code",
   "execution_count": 12,
   "metadata": {},
   "outputs": [
    {
     "name": "stdout",
     "output_type": "stream",
     "text": [
      "Probabilidad del evento encuestada/o esté en contra:  0.22"
     ]
    }
   ],
   "source": [
    "contra <- subset(O, out == \"En_contra\")\n",
    "cat(\"Probabilidad del evento encuestada/o esté en contra: \", Prob(contra))"
   ]
  },
  {
   "cell_type": "code",
   "execution_count": 49,
   "metadata": {},
   "outputs": [
    {
     "name": "stdout",
     "output_type": "stream",
     "text": [
      "Probabilidad del evento encuestada sea mujer y esté en contra: 0.1923077"
     ]
    }
   ],
   "source": [
    "m <- c(\"M_A_favor\", \"M_En_contra\")\n",
    "mp <- c(210/260,50/260)\n",
    "M <- probspace(urnsamples(m, size=1, replace = F, order = F), , probs = mp)\n",
    "mujer_contra <- subset(M, out == \"M_En_contra\")\n",
    "cat(\"Probabilidad del evento encuestada sea mujer y esté en contra:\", Prob(mujer_contra))"
   ]
  },
  {
   "cell_type": "code",
   "execution_count": 27,
   "metadata": {},
   "outputs": [
    {
     "name": "stdout",
     "output_type": "stream",
     "text": [
      "Probabilidad del evento encuestada sea mujer o esté en contra: 0.74"
     ]
    }
   ],
   "source": [
    "cat(\"Probabilidad del evento encuestada sea mujer o esté en contra:\", Prob(union(mujer,contra)))"
   ]
  },
  {
   "cell_type": "markdown",
   "metadata": {},
   "source": [
    "# Métodos de conteo"
   ]
  },
  {
   "cell_type": "markdown",
   "metadata": {},
   "source": [
    "1) Tenemos 5 ingredientes de los cuales podemos elegir para pedir nuestra pizza: peperoni, salchicha, anchoas, huitlacoche y aceitunas. ¿Cuántas pizzas distintas podemos formar?"
   ]
  },
  {
   "cell_type": "code",
   "execution_count": 7,
   "metadata": {},
   "outputs": [
    {
     "name": "stdout",
     "output_type": "stream",
     "text": [
      "Podemos formar: 15  combinaciones de pizzas diferentes"
     ]
    }
   ],
   "source": [
    "cat(\"Podemos formar:\", nsamp(n=5, k=2, replace = TRUE, ordered = FALSE), \" combinaciones de pizzas diferentes\")"
   ]
  },
  {
   "cell_type": "markdown",
   "metadata": {},
   "source": [
    "2) Para construir una computadora podemos elegir entre las opciones que están en una tienda: dos procesadores, tres sistemas operativos, cuatro tamaños distintos de memoria, 4 discos duros de distinto tamaño y 10 opciones de monitor. ¿Cuántas opciones de computadoras podemos construir?"
   ]
  },
  {
   "cell_type": "code",
   "execution_count": 130,
   "metadata": {},
   "outputs": [
    {
     "name": "stdout",
     "output_type": "stream",
     "text": [
      "Podemos construir: 960  opciones de computadora"
     ]
    }
   ],
   "source": [
    "proc = 2\n",
    "SO = 3\n",
    "RAM = 4\n",
    "HD = 4\n",
    "MON = 10\n",
    "cat(\"Podemos construir:\", proc*SO*RAM*HD*MON, \" opciones de computadora\")"
   ]
  },
  {
   "cell_type": "markdown",
   "metadata": {},
   "source": [
    "3) ¿Cuántas formas distintas se pueden construir números de tres cifras sin repetir ningún número?"
   ]
  },
  {
   "cell_type": "code",
   "execution_count": 153,
   "metadata": {},
   "outputs": [
    {
     "name": "stdout",
     "output_type": "stream",
     "text": [
      "Podemos construir: 720  números de tres cifras sin repetir ninguno"
     ]
    }
   ],
   "source": [
    "cat(\"Podemos construir:\", 10*9*8, \" números de tres cifras sin repetir ninguno\")"
   ]
  },
  {
   "cell_type": "markdown",
   "metadata": {},
   "source": [
    "4) Cuatro personas ordenan diferentes bebidas en un bar. El cantinero sirve las bebidas pero por falta de atención olvida completamente quién ordenó qué. ¿Cuál es la probabilidad de que el cantinero coloque las bebidas correctamente?"
   ]
  },
  {
   "cell_type": "code",
   "execution_count": 118,
   "metadata": {},
   "outputs": [
    {
     "name": "stdout",
     "output_type": "stream",
     "text": [
      "Solo existe una combinación correcta de entre:  24  posibles combinaciones, por lo tanto la probabilidad de que las coloque correctamente es de 0.04166667"
     ]
    }
   ],
   "source": [
    "comb <- nsamp(n=4, k=4, replace = FALSE, ordered = TRUE)\n",
    "cat(\"Solo existe una combinación correcta de entre: \",comb,\" posibles combinaciones, por lo tanto la probabilidad de que las coloque correctamente es de\", 1/comb)"
   ]
  },
  {
   "cell_type": "markdown",
   "metadata": {},
   "source": [
    "5) Rentas $5$ películas para ver: $3$ hoy y $2$ mañana por la noche pero tu amiga Mariana te pide prestadas $2$ películas. ¿De cuántas formas distintas puede Mariana elegir las $2$ películas?"
   ]
  },
  {
   "cell_type": "code",
   "execution_count": 125,
   "metadata": {},
   "outputs": [
    {
     "name": "stdout",
     "output_type": "stream",
     "text": [
      "Mariana puede elgir  10 combinaciones de 2 películas"
     ]
    }
   ],
   "source": [
    "cat(\"Mariana puede elgir \",nsamp(n=5, k=2, replace = FALSE, ordered = FALSE), \"combinaciones de 2 películas\")"
   ]
  },
  {
   "cell_type": "markdown",
   "metadata": {},
   "source": [
    "6) ¿Cuántas manos de poker contienen (exactamente) una tercia? ---> (excluye par, esto es, excluye el llamado full)"
   ]
  },
  {
   "cell_type": "code",
   "execution_count": 8,
   "metadata": {},
   "outputs": [
    {
     "data": {
      "text/html": [
       "54912"
      ],
      "text/latex": [
       "54912"
      ],
      "text/markdown": [
       "54912"
      ],
      "text/plain": [
       "[1] 54912"
      ]
     },
     "metadata": {},
     "output_type": "display_data"
    }
   ],
   "source": [
    "choose(13,1)*choose(4,3)*choose(12,2)*choose(4,1)*choose(4,1)"
   ]
  },
  {
   "cell_type": "markdown",
   "metadata": {},
   "source": [
    "# Probabilidad condicional"
   ]
  },
  {
   "cell_type": "markdown",
   "metadata": {},
   "source": [
    "1) Supongamos que en una muestra de 100 personas, 65 de ellas son vacunadas contra la influenza esta temporada de invierno. Cinco de las personas vacunadas contraen la enfermedad. De las 35 personas que no son vacunadas 25 caen enfermas. La siguiente tabla resume esta información:\n",
    "\n",
    "|----|enfermo|no enfermo|Total|\n",
    "|:---:|:---:|:---:|:---:|\n",
    "|vacunados|5|60|65|\n",
    "|no vacunados|25|10|35|\n",
    "|Total|30|70|100"
   ]
  },
  {
   "cell_type": "markdown",
   "metadata": {},
   "source": [
    "$P(${vacunado}$)$"
   ]
  },
  {
   "cell_type": "code",
   "execution_count": 14,
   "metadata": {},
   "outputs": [
    {
     "data": {
      "text/html": [
       "0.65"
      ],
      "text/latex": [
       "0.65"
      ],
      "text/markdown": [
       "0.65"
      ],
      "text/plain": [
       "[1] 0.65"
      ]
     },
     "metadata": {},
     "output_type": "display_data"
    }
   ],
   "source": [
    "65/100"
   ]
  },
  {
   "cell_type": "markdown",
   "metadata": {},
   "source": [
    "$P(${no vacunado}$)$"
   ]
  },
  {
   "cell_type": "code",
   "execution_count": 15,
   "metadata": {},
   "outputs": [
    {
     "data": {
      "text/html": [
       "0.35"
      ],
      "text/latex": [
       "0.35"
      ],
      "text/markdown": [
       "0.35"
      ],
      "text/plain": [
       "[1] 0.35"
      ]
     },
     "metadata": {},
     "output_type": "display_data"
    }
   ],
   "source": [
    "35/100"
   ]
  },
  {
   "cell_type": "markdown",
   "metadata": {},
   "source": [
    "$P(${enfermo|vacunado}$)$"
   ]
  },
  {
   "cell_type": "code",
   "execution_count": 16,
   "metadata": {},
   "outputs": [
    {
     "data": {
      "text/html": [
       "0.0769230769230769"
      ],
      "text/latex": [
       "0.0769230769230769"
      ],
      "text/markdown": [
       "0.0769230769230769"
      ],
      "text/plain": [
       "[1] 0.07692308"
      ]
     },
     "metadata": {},
     "output_type": "display_data"
    }
   ],
   "source": [
    "5/65"
   ]
  },
  {
   "cell_type": "markdown",
   "metadata": {},
   "source": [
    "$P(${no enfermo|vacunado}$)$"
   ]
  },
  {
   "cell_type": "code",
   "execution_count": 17,
   "metadata": {},
   "outputs": [
    {
     "data": {
      "text/html": [
       "0.923076923076923"
      ],
      "text/latex": [
       "0.923076923076923"
      ],
      "text/markdown": [
       "0.923076923076923"
      ],
      "text/plain": [
       "[1] 0.9230769"
      ]
     },
     "metadata": {},
     "output_type": "display_data"
    }
   ],
   "source": [
    "60/65"
   ]
  },
  {
   "cell_type": "markdown",
   "metadata": {},
   "source": [
    "$P(${enfermo|no vacunado}$)$"
   ]
  },
  {
   "cell_type": "code",
   "execution_count": 18,
   "metadata": {},
   "outputs": [
    {
     "data": {
      "text/html": [
       "0.714285714285714"
      ],
      "text/latex": [
       "0.714285714285714"
      ],
      "text/markdown": [
       "0.714285714285714"
      ],
      "text/plain": [
       "[1] 0.7142857"
      ]
     },
     "metadata": {},
     "output_type": "display_data"
    }
   ],
   "source": [
    "25/35"
   ]
  },
  {
   "cell_type": "markdown",
   "metadata": {},
   "source": [
    "$P(${no enfermo|no vacunado}$)$ "
   ]
  },
  {
   "cell_type": "code",
   "execution_count": 19,
   "metadata": {},
   "outputs": [
    {
     "data": {
      "text/html": [
       "0.285714285714286"
      ],
      "text/latex": [
       "0.285714285714286"
      ],
      "text/markdown": [
       "0.285714285714286"
      ],
      "text/plain": [
       "[1] 0.2857143"
      ]
     },
     "metadata": {},
     "output_type": "display_data"
    }
   ],
   "source": [
    "10/35"
   ]
  },
  {
   "cell_type": "markdown",
   "metadata": {},
   "source": [
    "$P(${vacunado y no enfermo}$)$"
   ]
  },
  {
   "cell_type": "code",
   "execution_count": 20,
   "metadata": {},
   "outputs": [
    {
     "data": {
      "text/html": [
       "0.6"
      ],
      "text/latex": [
       "0.6"
      ],
      "text/markdown": [
       "0.6"
      ],
      "text/plain": [
       "[1] 0.6"
      ]
     },
     "metadata": {},
     "output_type": "display_data"
    }
   ],
   "source": [
    "60/100"
   ]
  },
  {
   "cell_type": "markdown",
   "metadata": {},
   "source": [
    "$P(${no vacunado y no enfermo}$)$"
   ]
  },
  {
   "cell_type": "code",
   "execution_count": 21,
   "metadata": {},
   "outputs": [
    {
     "data": {
      "text/html": [
       "0.1"
      ],
      "text/latex": [
       "0.1"
      ],
      "text/markdown": [
       "0.1"
      ],
      "text/plain": [
       "[1] 0.1"
      ]
     },
     "metadata": {},
     "output_type": "display_data"
    }
   ],
   "source": [
    "10/100"
   ]
  },
  {
   "cell_type": "markdown",
   "metadata": {},
   "source": [
    "$P(${no enfermo}$)$"
   ]
  },
  {
   "cell_type": "code",
   "execution_count": 22,
   "metadata": {},
   "outputs": [
    {
     "data": {
      "text/html": [
       "0.7"
      ],
      "text/latex": [
       "0.7"
      ],
      "text/markdown": [
       "0.7"
      ],
      "text/plain": [
       "[1] 0.7"
      ]
     },
     "metadata": {},
     "output_type": "display_data"
    }
   ],
   "source": [
    "70/100"
   ]
  },
  {
   "cell_type": "markdown",
   "metadata": {},
   "source": [
    "$P(${vacunado} | {no enfermo}$)$"
   ]
  },
  {
   "cell_type": "code",
   "execution_count": 24,
   "metadata": {},
   "outputs": [
    {
     "data": {
      "text/html": [
       "0.857142857142857"
      ],
      "text/latex": [
       "0.857142857142857"
      ],
      "text/markdown": [
       "0.857142857142857"
      ],
      "text/plain": [
       "[1] 0.8571429"
      ]
     },
     "metadata": {},
     "output_type": "display_data"
    }
   ],
   "source": [
    "60/70"
   ]
  },
  {
   "cell_type": "markdown",
   "metadata": {},
   "source": [
    "2) Considérese dos urnas, la primera tiene $5$ canicas rojas y $3$ canicas verdes y la segunda $2$ canicas rojas y $6$ verdes. Una persona selecciona una canica de la primer urna y la transfiere a la segunda urna sin mostrarte qué color fue. Seleccionas una canica de la segunda urna. ¿Cuál es la probabilidad que la canica que seleccionaste es roja?."
   ]
  },
  {
   "cell_type": "code",
   "execution_count": 29,
   "metadata": {},
   "outputs": [
    {
     "data": {
      "text/html": [
       "0.291666666666667"
      ],
      "text/latex": [
       "0.291666666666667"
      ],
      "text/markdown": [
       "0.291666666666667"
      ],
      "text/plain": [
       "[1] 0.2916667"
      ]
     },
     "metadata": {},
     "output_type": "display_data"
    }
   ],
   "source": [
    "3/9*5/8 + 2/9*3/8"
   ]
  },
  {
   "cell_type": "markdown",
   "metadata": {},
   "source": [
    "3) Considérese la siguiente tabla:\n",
    "\n",
    "\n",
    "|Fuma/No Fuma|Femenino|Masculino|Suma\n",
    "|:----:|:----:|:----:|:----:|\n",
    "|No fuma|61|75|136\n",
    "|Fuma|9|23|32\n",
    "|Suma|70|98|168"
   ]
  },
  {
   "cell_type": "markdown",
   "metadata": {},
   "source": [
    "$P(Femenino)$"
   ]
  },
  {
   "cell_type": "code",
   "execution_count": 25,
   "metadata": {},
   "outputs": [
    {
     "data": {
      "text/html": [
       "0.416666666666667"
      ],
      "text/latex": [
       "0.416666666666667"
      ],
      "text/markdown": [
       "0.416666666666667"
      ],
      "text/plain": [
       "[1] 0.4166667"
      ]
     },
     "metadata": {},
     "output_type": "display_data"
    }
   ],
   "source": [
    "70/168"
   ]
  },
  {
   "cell_type": "markdown",
   "metadata": {},
   "source": [
    "$P(Fuma)$"
   ]
  },
  {
   "cell_type": "code",
   "execution_count": 26,
   "metadata": {},
   "outputs": [
    {
     "data": {
      "text/html": [
       "0.19047619047619"
      ],
      "text/latex": [
       "0.19047619047619"
      ],
      "text/markdown": [
       "0.19047619047619"
      ],
      "text/plain": [
       "[1] 0.1904762"
      ]
     },
     "metadata": {},
     "output_type": "display_data"
    }
   ],
   "source": [
    "32/168"
   ]
  },
  {
   "cell_type": "markdown",
   "metadata": {},
   "source": [
    "Supóngase que una persona deja de fumar pero no se sabe su género. Si se selecciona una persona no fumadora aleatoriamente, calcular $P(Femenino)$. Sugerencia: piénsese este problema como el de tener dos urnas, cada urna con canicas rojas y verdes como en el ejercicio anterior. La urna 1 y la urna 2 representan fumar y  no fumar respectivamente y las canicas rojas y verdes representan Femenino y Masculino respectivamente. Además, considérese los eventos: $E=${mujer deja de fumar} y usar la regla de probabilidad total condicionando sobre $E$."
   ]
  },
  {
   "cell_type": "code",
   "execution_count": 28,
   "metadata": {},
   "outputs": [
    {
     "data": {
      "text/html": [
       "0.447308394160584"
      ],
      "text/latex": [
       "0.447308394160584"
      ],
      "text/markdown": [
       "0.447308394160584"
      ],
      "text/plain": [
       "[1] 0.4473084"
      ]
     },
     "metadata": {},
     "output_type": "display_data"
    }
   ],
   "source": [
    "62/137*9/32 + 61/137*23/32"
   ]
  },
  {
   "cell_type": "markdown",
   "metadata": {},
   "source": [
    "# Eventos Independientes"
   ]
  },
  {
   "cell_type": "markdown",
   "metadata": {},
   "source": [
    "1) Calcular la probabilidad de sacar un as y corazón en una baraja"
   ]
  },
  {
   "cell_type": "code",
   "execution_count": 31,
   "metadata": {},
   "outputs": [
    {
     "data": {
      "text/html": [
       "0.0192307692307692"
      ],
      "text/latex": [
       "0.0192307692307692"
      ],
      "text/markdown": [
       "0.0192307692307692"
      ],
      "text/plain": [
       "[1] 0.01923077"
      ]
     },
     "metadata": {},
     "output_type": "display_data"
    }
   ],
   "source": [
    "4/52*13/52"
   ]
  },
  {
   "cell_type": "markdown",
   "metadata": {},
   "source": [
    "2) Se lanzan dos dados, uno verde y otro rojo. Considérense los eventos $E=${los números suman 5}, $F=${el número en el dado verde es impar}. ¿$E$ y $F$ son independientes?."
   ]
  },
  {
   "cell_type": "markdown",
   "metadata": {},
   "source": [
    "Son independientes ya que la variable del color del dado no afecta la suma de los números de los dados"
   ]
  },
  {
   "cell_type": "markdown",
   "metadata": {},
   "source": [
    "3) Supóngase que nuestra elección de postre cuando salimos a comer es independiente del platillo principal que pedimos. La mitad de las veces que vamos a comer al restaurante \"L Intervallo\" pedimos pasta con camarones y la mitad de las veces pedimos panna cotta de postre. ¿Cuál es la probabilidad de ordenar pasta con camarones y panna cotta dado que comemos en \"L Intervallo\"?"
   ]
  },
  {
   "cell_type": "code",
   "execution_count": 32,
   "metadata": {},
   "outputs": [
    {
     "data": {
      "text/html": [
       "0.25"
      ],
      "text/latex": [
       "0.25"
      ],
      "text/markdown": [
       "0.25"
      ],
      "text/plain": [
       "[1] 0.25"
      ]
     },
     "metadata": {},
     "output_type": "display_data"
    }
   ],
   "source": [
    "1/2*1/2"
   ]
  },
  {
   "cell_type": "markdown",
   "metadata": {},
   "source": [
    "4) Sea $E$ el evento de que el número  $111111$  sea ganador en el sorteo Melate (la lotería Melate consiste en elegir una combinación de seis números diferentes entre el  $1$  y el  $56$ , sin orden y sin reemplazo) y  $F$  el evento de que el número  $555555$  sea el ganador."
   ]
  },
  {
   "cell_type": "markdown",
   "metadata": {},
   "source": [
    "a) Determina si estos eventos son mutuamente excluyentes\n",
    "\n",
    "Son mutuamente excluyentes porque solo una combinación de números diferentes puede ser ganadora"
   ]
  },
  {
   "cell_type": "markdown",
   "metadata": {},
   "source": [
    "b) Determina si estos eventos son independientes\n",
    "\n",
    "Son independientes porque ninguna de ambas combinaciones es posible dado que los eventos son sin reemplazo, es decir, no es posible la repetición de números"
   ]
  },
  {
   "cell_type": "markdown",
   "metadata": {},
   "source": [
    "# Teorema de Bayes"
   ]
  },
  {
   "cell_type": "markdown",
   "metadata": {},
   "source": [
    "1)El siguiente es un mecanismo conocido para elegir a una persona de un grupo pequeño. Digamos que en un grupo de 4 personas quiere seleccionarse a una de ellas para que realice alguna actividad, digamos ir por cervezas a la hielera. Para este efecto, se toman 4 palillos y uno de ellos se recorta; así, se tienen tres palillos largos y uno corto. Las personas toman turnos tomando palillos, ignorando cuál es el corto, y el que saca el palillo corto es el elegido para ir por las cervezas. ¿Tiene alguna ventaja escoger primero, segundo, tercero o cuarto?"
   ]
  },
  {
   "cell_type": "markdown",
   "metadata": {},
   "source": [
    "Ninguna ya que las probalidades de obtener el palillo corto es la misma independientemente de el turno, $P(E)=\\frac{1}{4}$"
   ]
  },
  {
   "cell_type": "markdown",
   "metadata": {},
   "source": [
    "2)Considera el mismo escenario que el ejemplo  3  pero en lugar de que el sospechoso sea un individuo albino ahora se tiene:"
   ]
  },
  {
   "cell_type": "markdown",
   "metadata": {},
   "source": [
    "a) El sospechoso del crimen es un individuo pelirrojo y la probabilidad de ser pelirrojo es del  2% . Encontrar  P({pelirrojo}|+),  en donde  +  representa: “el testigo identifica a una persona como pelirroja”."
   ]
  },
  {
   "cell_type": "code",
   "execution_count": null,
   "metadata": {},
   "outputs": [],
   "source": []
  },
  {
   "cell_type": "markdown",
   "metadata": {},
   "source": [
    "b) El sospechoso es un individuo de pelo rubio y la probabilidad de tener el pelo rubio es del  15% . Encontrar  P({rubio}|+) , en donde  +  representa: \"el testigo identifica a una persona como rubia\"."
   ]
  },
  {
   "cell_type": "code",
   "execution_count": null,
   "metadata": {},
   "outputs": [],
   "source": []
  }
 ],
 "metadata": {
  "kernelspec": {
   "display_name": "R",
   "language": "R",
   "name": "ir"
  },
  "language_info": {
   "codemirror_mode": "r",
   "file_extension": ".r",
   "mimetype": "text/x-r-source",
   "name": "R",
   "pygments_lexer": "r",
   "version": "4.0.2"
  }
 },
 "nbformat": 4,
 "nbformat_minor": 4
}
