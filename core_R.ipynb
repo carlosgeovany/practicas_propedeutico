{
 "cells": [
  {
   "cell_type": "markdown",
   "metadata": {},
   "source": [
    "# Core R and ggplot"
   ]
  },
  {
   "cell_type": "markdown",
   "metadata": {},
   "source": [
    "### For this exercises we will use the R datasets"
   ]
  },
  {
   "cell_type": "code",
   "execution_count": 1,
   "metadata": {},
   "outputs": [
    {
     "data": {
      "text/html": [
       "\n",
       "<table width=\"100%\" summary=\"page for datasets-package {datasets}\"><tr><td>datasets-package {datasets}</td><td style=\"text-align: right;\">R Documentation</td></tr></table>\n",
       "\n",
       "<h2>\n",
       "The R Datasets Package\n",
       "</h2>\n",
       "\n",
       "<h3>Description</h3>\n",
       "\n",
       "<p>Base R datasets\n",
       "</p>\n",
       "\n",
       "\n",
       "<h3>Details</h3>\n",
       "\n",
       "<p>This package contains a variety of datasets.  For a complete\n",
       "list, use <code>library(help = \"datasets\")</code>.\n",
       "</p>\n",
       "\n",
       "\n",
       "<h3>Author(s)</h3>\n",
       "\n",
       "<p>R Core Team and contributors worldwide\n",
       "</p>\n",
       "<p>Maintainer: R Core Team <a href=\"mailto:R-core@r-project.org\">R-core@r-project.org</a>\n",
       "</p>\n",
       "\n",
       "<hr /><div style=\"text-align: center;\">[Package <em>datasets</em> version 4.0.2 ]</div>"
      ],
      "text/latex": [
       "\\inputencoding{utf8}\n",
       "\\HeaderA{datasets-package}{The R Datasets Package}{datasets.Rdash.package}\n",
       "\\aliasA{datasets}{datasets-package}{datasets}\n",
       "\\keyword{package}{datasets-package}\n",
       "%\n",
       "\\begin{Description}\\relax\n",
       "Base R datasets\n",
       "\\end{Description}\n",
       "%\n",
       "\\begin{Details}\\relax\n",
       "This package contains a variety of datasets.  For a complete\n",
       "list, use \\code{library(help = \"datasets\")}.\n",
       "\\end{Details}\n",
       "%\n",
       "\\begin{Author}\\relax\n",
       "R Core Team and contributors worldwide\n",
       "\n",
       "Maintainer: R Core Team \\email{R-core@r-project.org}\n",
       "\\end{Author}"
      ],
      "text/plain": [
       "datasets-package           package:datasets            R Documentation\n",
       "\n",
       "_\bT_\bh_\be _\bR _\bD_\ba_\bt_\ba_\bs_\be_\bt_\bs _\bP_\ba_\bc_\bk_\ba_\bg_\be\n",
       "\n",
       "_\bD_\be_\bs_\bc_\br_\bi_\bp_\bt_\bi_\bo_\bn:\n",
       "\n",
       "     Base R datasets\n",
       "\n",
       "_\bD_\be_\bt_\ba_\bi_\bl_\bs:\n",
       "\n",
       "     This package contains a variety of datasets.  For a complete list,\n",
       "     use 'library(help = \"datasets\")'.\n",
       "\n",
       "_\bA_\bu_\bt_\bh_\bo_\br(_\bs):\n",
       "\n",
       "     R Core Team and contributors worldwide\n",
       "\n",
       "     Maintainer: R Core Team <email: R-core@r-project.org>\n"
      ]
     },
     "metadata": {},
     "output_type": "display_data"
    }
   ],
   "source": [
    "?datasets"
   ]
  },
  {
   "cell_type": "markdown",
   "metadata": {},
   "source": [
    "### We pick for analisys the Air quality dataset"
   ]
  },
  {
   "cell_type": "code",
   "execution_count": 2,
   "metadata": {},
   "outputs": [
    {
     "data": {
      "text/html": [
       "\n",
       "<table width=\"100%\" summary=\"page for airquality {datasets}\"><tr><td>airquality {datasets}</td><td style=\"text-align: right;\">R Documentation</td></tr></table>\n",
       "\n",
       "<h2>New York Air Quality Measurements</h2>\n",
       "\n",
       "<h3>Description</h3>\n",
       "\n",
       "<p>Daily air quality measurements in New York, May to September 1973.\n",
       "</p>\n",
       "\n",
       "\n",
       "<h3>Usage</h3>\n",
       "\n",
       "<pre>airquality</pre>\n",
       "\n",
       "\n",
       "<h3>Format</h3>\n",
       "\n",
       "<p>A data frame with 153 observations on 6 variables.\n",
       "</p>\n",
       "\n",
       "<table summary=\"Rd table\">\n",
       "<tr>\n",
       " <td style=\"text-align: right;\">\n",
       "    <code>[,1]</code> </td><td style=\"text-align: left;\"> <code>Ozone</code>   </td><td style=\"text-align: left;\"> numeric </td><td style=\"text-align: left;\"> Ozone (ppb)</td>\n",
       "</tr>\n",
       "<tr>\n",
       " <td style=\"text-align: right;\">\n",
       "    <code>[,2]</code> </td><td style=\"text-align: left;\"> <code>Solar.R</code> </td><td style=\"text-align: left;\"> numeric </td><td style=\"text-align: left;\"> Solar R (lang)</td>\n",
       "</tr>\n",
       "<tr>\n",
       " <td style=\"text-align: right;\">\n",
       "    <code>[,3]</code> </td><td style=\"text-align: left;\"> <code>Wind</code>    </td><td style=\"text-align: left;\"> numeric </td><td style=\"text-align: left;\"> Wind (mph)</td>\n",
       "</tr>\n",
       "<tr>\n",
       " <td style=\"text-align: right;\">\n",
       "    <code>[,4]</code> </td><td style=\"text-align: left;\"> <code>Temp</code>    </td><td style=\"text-align: left;\"> numeric </td><td style=\"text-align: left;\"> Temperature (degrees F)</td>\n",
       "</tr>\n",
       "<tr>\n",
       " <td style=\"text-align: right;\">\n",
       "    <code>[,5]</code> </td><td style=\"text-align: left;\"> <code>Month</code>   </td><td style=\"text-align: left;\"> numeric </td><td style=\"text-align: left;\"> Month (1--12)</td>\n",
       "</tr>\n",
       "<tr>\n",
       " <td style=\"text-align: right;\">\n",
       "    <code>[,6]</code> </td><td style=\"text-align: left;\"> <code>Day</code>     </td><td style=\"text-align: left;\"> numeric </td><td style=\"text-align: left;\"> Day of month (1--31)\n",
       "  </td>\n",
       "</tr>\n",
       "\n",
       "</table>\n",
       "\n",
       "\n",
       "\n",
       "<h3>Details</h3>\n",
       "\n",
       "<p>Daily readings of the following air quality values for May 1, 1973 (a\n",
       "Tuesday) to September 30, 1973.\n",
       "</p>\n",
       "\n",
       "<ul>\n",
       "<li> <p><code>Ozone</code>: Mean ozone in parts per\n",
       "billion from 1300 to 1500 hours at Roosevelt Island\n",
       "</p>\n",
       "</li>\n",
       "<li> <p><code>Solar.R</code>: Solar radiation\n",
       "in Langleys in the frequency band 4000&ndash;7700 Angstroms from\n",
       "0800 to 1200 hours at Central Park\n",
       "</p>\n",
       "</li>\n",
       "<li> <p><code>Wind</code>: Average wind speed in miles\n",
       "per hour at 0700 and 1000 hours at LaGuardia Airport\n",
       "</p>\n",
       "</li>\n",
       "<li> <p><code>Temp</code>: Maximum daily\n",
       "temperature in degrees Fahrenheit at La Guardia Airport.\n",
       "</p>\n",
       "</li></ul>\n",
       "\n",
       "\n",
       "\n",
       "<h3>Source</h3>\n",
       "\n",
       "<p>The data were obtained from the New York State Department of\n",
       "Conservation (ozone data) and the National Weather Service\n",
       "(meteorological data).\n",
       "</p>\n",
       "\n",
       "\n",
       "<h3>References</h3>\n",
       "\n",
       "<p>Chambers, J. M., Cleveland, W. S., Kleiner, B. and Tukey, P. A. (1983)\n",
       "<em>Graphical Methods for Data Analysis</em>.\n",
       "Belmont, CA: Wadsworth.\n",
       "</p>\n",
       "\n",
       "\n",
       "<h3>Examples</h3>\n",
       "\n",
       "<pre>\n",
       "require(graphics)\n",
       "pairs(airquality, panel = panel.smooth, main = \"airquality data\")\n",
       "</pre>\n",
       "\n",
       "<hr /><div style=\"text-align: center;\">[Package <em>datasets</em> version 4.0.2 ]</div>"
      ],
      "text/latex": [
       "\\inputencoding{utf8}\n",
       "\\HeaderA{airquality}{New York Air Quality Measurements}{airquality}\n",
       "\\keyword{datasets}{airquality}\n",
       "%\n",
       "\\begin{Description}\\relax\n",
       "Daily air quality measurements in New York, May to September 1973.\n",
       "\\end{Description}\n",
       "%\n",
       "\\begin{Usage}\n",
       "\\begin{verbatim}\n",
       "airquality\n",
       "\\end{verbatim}\n",
       "\\end{Usage}\n",
       "%\n",
       "\\begin{Format}\n",
       "A data frame with 153 observations on 6 variables.\n",
       "\n",
       "\n",
       "\\Tabular{rlll}{\n",
       "\\code{[,1]} & \\code{Ozone}   & numeric & Ozone (ppb)\\\\{}\n",
       "\\code{[,2]} & \\code{Solar.R} & numeric & Solar R (lang)\\\\{}\n",
       "\\code{[,3]} & \\code{Wind}    & numeric & Wind (mph)\\\\{}\n",
       "\\code{[,4]} & \\code{Temp}    & numeric & Temperature (degrees F)\\\\{}\n",
       "\\code{[,5]} & \\code{Month}   & numeric & Month (1--12)\\\\{}\n",
       "\\code{[,6]} & \\code{Day}     & numeric & Day of month (1--31)\n",
       "}\n",
       "\\end{Format}\n",
       "%\n",
       "\\begin{Details}\\relax\n",
       "Daily readings of the following air quality values for May 1, 1973 (a\n",
       "Tuesday) to September 30, 1973.\n",
       "\n",
       "\\begin{itemize}\n",
       "\n",
       "\\item{} \\code{Ozone}: Mean ozone in parts per\n",
       "billion from 1300 to 1500 hours at Roosevelt Island\n",
       "\\item{} \\code{Solar.R}: Solar radiation\n",
       "in Langleys in the frequency band 4000--7700 Angstroms from\n",
       "0800 to 1200 hours at Central Park\n",
       "\\item{} \\code{Wind}: Average wind speed in miles\n",
       "per hour at 0700 and 1000 hours at LaGuardia Airport\n",
       "\\item{} \\code{Temp}: Maximum daily\n",
       "temperature in degrees Fahrenheit at La Guardia Airport.\n",
       "\n",
       "\\end{itemize}\n",
       "\n",
       "\\end{Details}\n",
       "%\n",
       "\\begin{Source}\\relax\n",
       "The data were obtained from the New York State Department of\n",
       "Conservation (ozone data) and the National Weather Service\n",
       "(meteorological data).\n",
       "\\end{Source}\n",
       "%\n",
       "\\begin{References}\\relax\n",
       "Chambers, J. M., Cleveland, W. S., Kleiner, B. and Tukey, P. A. (1983)\n",
       "\\emph{Graphical Methods for Data Analysis}.\n",
       "Belmont, CA: Wadsworth.\n",
       "\\end{References}\n",
       "%\n",
       "\\begin{Examples}\n",
       "\\begin{ExampleCode}\n",
       "require(graphics)\n",
       "pairs(airquality, panel = panel.smooth, main = \"airquality data\")\n",
       "\\end{ExampleCode}\n",
       "\\end{Examples}"
      ],
      "text/plain": [
       "airquality              package:datasets               R Documentation\n",
       "\n",
       "_\bN_\be_\bw _\bY_\bo_\br_\bk _\bA_\bi_\br _\bQ_\bu_\ba_\bl_\bi_\bt_\by _\bM_\be_\ba_\bs_\bu_\br_\be_\bm_\be_\bn_\bt_\bs\n",
       "\n",
       "_\bD_\be_\bs_\bc_\br_\bi_\bp_\bt_\bi_\bo_\bn:\n",
       "\n",
       "     Daily air quality measurements in New York, May to September 1973.\n",
       "\n",
       "_\bU_\bs_\ba_\bg_\be:\n",
       "\n",
       "     airquality\n",
       "     \n",
       "_\bF_\bo_\br_\bm_\ba_\bt:\n",
       "\n",
       "     A data frame with 153 observations on 6 variables.\n",
       "\n",
       "       '[,1]'  'Ozone'    numeric  Ozone (ppb)             \n",
       "       '[,2]'  'Solar.R'  numeric  Solar R (lang)          \n",
       "       '[,3]'  'Wind'     numeric  Wind (mph)              \n",
       "       '[,4]'  'Temp'     numeric  Temperature (degrees F) \n",
       "       '[,5]'  'Month'    numeric  Month (1-12)            \n",
       "       '[,6]'  'Day'      numeric  Day of month (1-31)     \n",
       "      \n",
       "_\bD_\be_\bt_\ba_\bi_\bl_\bs:\n",
       "\n",
       "     Daily readings of the following air quality values for May 1, 1973\n",
       "     (a Tuesday) to September 30, 1973.\n",
       "\n",
       "        â€¢ 'Ozone': Mean ozone in parts per billion from 1300 to 1500\n",
       "          hours at Roosevelt Island\n",
       "\n",
       "        â€¢ 'Solar.R': Solar radiation in Langleys in the frequency band\n",
       "          4000-7700 Angstroms from 0800 to 1200 hours at Central Park\n",
       "\n",
       "        â€¢ 'Wind': Average wind speed in miles per hour at 0700 and 1000\n",
       "          hours at LaGuardia Airport\n",
       "\n",
       "        â€¢ 'Temp': Maximum daily temperature in degrees Fahrenheit at La\n",
       "          Guardia Airport.\n",
       "\n",
       "_\bS_\bo_\bu_\br_\bc_\be:\n",
       "\n",
       "     The data were obtained from the New York State Department of\n",
       "     Conservation (ozone data) and the National Weather Service\n",
       "     (meteorological data).\n",
       "\n",
       "_\bR_\be_\bf_\be_\br_\be_\bn_\bc_\be_\bs:\n",
       "\n",
       "     Chambers, J. M., Cleveland, W. S., Kleiner, B. and Tukey, P. A.\n",
       "     (1983) _Graphical Methods for Data Analysis_.  Belmont, CA:\n",
       "     Wadsworth.\n",
       "\n",
       "_\bE_\bx_\ba_\bm_\bp_\bl_\be_\bs:\n",
       "\n",
       "     require(graphics)\n",
       "     pairs(airquality, panel = panel.smooth, main = \"airquality data\")\n",
       "     "
      ]
     },
     "metadata": {},
     "output_type": "display_data"
    }
   ],
   "source": [
    "?airquality"
   ]
  },
  {
   "cell_type": "markdown",
   "metadata": {},
   "source": [
    "Dataset variables are"
   ]
  },
  {
   "cell_type": "code",
   "execution_count": 3,
   "metadata": {},
   "outputs": [
    {
     "name": "stdout",
     "output_type": "stream",
     "text": [
      "[1] \"Ozone\"   \"Solar.R\" \"Wind\"    \"Temp\"    \"Month\"   \"Day\"    \n"
     ]
    }
   ],
   "source": [
    "print(names(airquality))"
   ]
  },
  {
   "cell_type": "markdown",
   "metadata": {},
   "source": [
    "Display usefull information of the data frame:"
   ]
  },
  {
   "cell_type": "code",
   "execution_count": 4,
   "metadata": {},
   "outputs": [
    {
     "name": "stdout",
     "output_type": "stream",
     "text": [
      "'data.frame':\t153 obs. of  6 variables:\n",
      " $ Ozone  : int  41 36 12 18 NA 28 23 19 8 NA ...\n",
      " $ Solar.R: int  190 118 149 313 NA NA 299 99 19 194 ...\n",
      " $ Wind   : num  7.4 8 12.6 11.5 14.3 14.9 8.6 13.8 20.1 8.6 ...\n",
      " $ Temp   : int  67 72 74 62 56 66 65 59 61 69 ...\n",
      " $ Month  : int  5 5 5 5 5 5 5 5 5 5 ...\n",
      " $ Day    : int  1 2 3 4 5 6 7 8 9 10 ...\n"
     ]
    }
   ],
   "source": [
    "str(airquality)"
   ]
  },
  {
   "cell_type": "markdown",
   "metadata": {},
   "source": [
    "Summary statistics can provide some quick insights of the data set"
   ]
  },
  {
   "cell_type": "code",
   "execution_count": 5,
   "metadata": {},
   "outputs": [
    {
     "data": {
      "text/plain": [
       "     Ozone           Solar.R           Wind             Temp      \n",
       " Min.   :  1.00   Min.   :  7.0   Min.   : 1.700   Min.   :56.00  \n",
       " 1st Qu.: 18.00   1st Qu.:115.8   1st Qu.: 7.400   1st Qu.:72.00  \n",
       " Median : 31.50   Median :205.0   Median : 9.700   Median :79.00  \n",
       " Mean   : 42.13   Mean   :185.9   Mean   : 9.958   Mean   :77.88  \n",
       " 3rd Qu.: 63.25   3rd Qu.:258.8   3rd Qu.:11.500   3rd Qu.:85.00  \n",
       " Max.   :168.00   Max.   :334.0   Max.   :20.700   Max.   :97.00  \n",
       " NA's   :37       NA's   :7                                       \n",
       "     Month            Day      \n",
       " Min.   :5.000   Min.   : 1.0  \n",
       " 1st Qu.:6.000   1st Qu.: 8.0  \n",
       " Median :7.000   Median :16.0  \n",
       " Mean   :6.993   Mean   :15.8  \n",
       " 3rd Qu.:8.000   3rd Qu.:23.0  \n",
       " Max.   :9.000   Max.   :31.0  \n",
       "                               "
      ]
     },
     "metadata": {},
     "output_type": "display_data"
    }
   ],
   "source": [
    "summary(airquality)"
   ]
  },
  {
   "cell_type": "markdown",
   "metadata": {},
   "source": [
    "Now lets attach our data set for easiness, this way we can call the variables directly by its name"
   ]
  },
  {
   "cell_type": "code",
   "execution_count": 7,
   "metadata": {},
   "outputs": [],
   "source": [
    "attach(airquality)"
   ]
  },
  {
   "cell_type": "markdown",
   "metadata": {},
   "source": [
    "The correlation statistic measures the degree of linear association between two variables\n",
    "\n",
    "*Text from class notes*"
   ]
  },
  {
   "cell_type": "code",
   "execution_count": 8,
   "metadata": {},
   "outputs": [
    {
     "data": {
      "text/html": [
       "<table>\n",
       "<caption>A matrix: 6 × 6 of type dbl</caption>\n",
       "<thead>\n",
       "\t<tr><th></th><th scope=col>Ozone</th><th scope=col>Solar.R</th><th scope=col>Wind</th><th scope=col>Temp</th><th scope=col>Month</th><th scope=col>Day</th></tr>\n",
       "</thead>\n",
       "<tbody>\n",
       "\t<tr><th scope=row>Ozone</th><td> 1</td><td>NA</td><td>        NA</td><td>        NA</td><td>          NA</td><td>          NA</td></tr>\n",
       "\t<tr><th scope=row>Solar.R</th><td>NA</td><td> 1</td><td>        NA</td><td>        NA</td><td>          NA</td><td>          NA</td></tr>\n",
       "\t<tr><th scope=row>Wind</th><td>NA</td><td>NA</td><td> 1.0000000</td><td>-0.4579879</td><td>-0.178292579</td><td> 0.027180903</td></tr>\n",
       "\t<tr><th scope=row>Temp</th><td>NA</td><td>NA</td><td>-0.4579879</td><td> 1.0000000</td><td> 0.420947252</td><td>-0.130593175</td></tr>\n",
       "\t<tr><th scope=row>Month</th><td>NA</td><td>NA</td><td>-0.1782926</td><td> 0.4209473</td><td> 1.000000000</td><td>-0.007961763</td></tr>\n",
       "\t<tr><th scope=row>Day</th><td>NA</td><td>NA</td><td> 0.0271809</td><td>-0.1305932</td><td>-0.007961763</td><td> 1.000000000</td></tr>\n",
       "</tbody>\n",
       "</table>\n"
      ],
      "text/latex": [
       "A matrix: 6 × 6 of type dbl\n",
       "\\begin{tabular}{r|llllll}\n",
       "  & Ozone & Solar.R & Wind & Temp & Month & Day\\\\\n",
       "\\hline\n",
       "\tOzone &  1 & NA &         NA &         NA &           NA &           NA\\\\\n",
       "\tSolar.R & NA &  1 &         NA &         NA &           NA &           NA\\\\\n",
       "\tWind & NA & NA &  1.0000000 & -0.4579879 & -0.178292579 &  0.027180903\\\\\n",
       "\tTemp & NA & NA & -0.4579879 &  1.0000000 &  0.420947252 & -0.130593175\\\\\n",
       "\tMonth & NA & NA & -0.1782926 &  0.4209473 &  1.000000000 & -0.007961763\\\\\n",
       "\tDay & NA & NA &  0.0271809 & -0.1305932 & -0.007961763 &  1.000000000\\\\\n",
       "\\end{tabular}\n"
      ],
      "text/markdown": [
       "\n",
       "A matrix: 6 × 6 of type dbl\n",
       "\n",
       "| <!--/--> | Ozone | Solar.R | Wind | Temp | Month | Day |\n",
       "|---|---|---|---|---|---|---|\n",
       "| Ozone |  1 | NA |         NA |         NA |           NA |           NA |\n",
       "| Solar.R | NA |  1 |         NA |         NA |           NA |           NA |\n",
       "| Wind | NA | NA |  1.0000000 | -0.4579879 | -0.178292579 |  0.027180903 |\n",
       "| Temp | NA | NA | -0.4579879 |  1.0000000 |  0.420947252 | -0.130593175 |\n",
       "| Month | NA | NA | -0.1782926 |  0.4209473 |  1.000000000 | -0.007961763 |\n",
       "| Day | NA | NA |  0.0271809 | -0.1305932 | -0.007961763 |  1.000000000 |\n",
       "\n"
      ],
      "text/plain": [
       "        Ozone Solar.R Wind       Temp       Month        Day         \n",
       "Ozone    1    NA              NA         NA           NA           NA\n",
       "Solar.R NA     1              NA         NA           NA           NA\n",
       "Wind    NA    NA       1.0000000 -0.4579879 -0.178292579  0.027180903\n",
       "Temp    NA    NA      -0.4579879  1.0000000  0.420947252 -0.130593175\n",
       "Month   NA    NA      -0.1782926  0.4209473  1.000000000 -0.007961763\n",
       "Day     NA    NA       0.0271809 -0.1305932 -0.007961763  1.000000000"
      ]
     },
     "metadata": {},
     "output_type": "display_data"
    }
   ],
   "source": [
    "cor(airquality)"
   ]
  },
  {
   "cell_type": "markdown",
   "metadata": {},
   "source": [
    "As we can see, not all variables are related to each others"
   ]
  },
  {
   "cell_type": "markdown",
   "metadata": {},
   "source": [
    "We can plot some variables and see the actual correlation between two variables\n",
    "\n",
    "For ths nexts steps we will use ggplot2 library and follow the examples from [Graficar en R](https://github.com/AliciaMstt/BioinfinvRepro/blob/master/Unidad3/Graficar%20en%20R.Rmd)\n",
    "\n",
    "ggplot library has been installed usign $\\texttt{install.packages('ggplot2')}$ command"
   ]
  },
  {
   "cell_type": "code",
   "execution_count": 9,
   "metadata": {},
   "outputs": [],
   "source": [
    "library(ggplot2)"
   ]
  },
  {
   "cell_type": "markdown",
   "metadata": {},
   "source": [
    "Using ggplot, we can plot three variables, as we can see in the plot, the less the wind, the more the temperature and the more Ozone levels"
   ]
  },
  {
   "cell_type": "code",
   "execution_count": 41,
   "metadata": {},
   "outputs": [
    {
     "name": "stderr",
     "output_type": "stream",
     "text": [
      "Warning message:\n",
      "\"Removed 37 rows containing missing values (geom_point).\"\n"
     ]
    },
    {
     "data": {
      "image/png": "[encoded data removed]",
      "text/plain": [
       "plot without title"
      ]
     },
     "metadata": {
      "image/png": {
       "height": 420,
       "width": 420
      }
     },
     "output_type": "display_data"
    }
   ],
   "source": [
    "ggplot(data=airquality, aes( x=Wind, y=Temp, size=Ozone, col=Solar.R)) + geom_point()"
   ]
  },
  {
   "cell_type": "code",
   "execution_count": 38,
   "metadata": {},
   "outputs": [
    {
     "name": "stderr",
     "output_type": "stream",
     "text": [
      "Warning message:\n",
      "\"Removed 37 rows containing non-finite values (stat_density).\"\n",
      "Warning message in ggally_statistic(data = data, mapping = mapping, na.rm = na.rm, :\n",
      "\"Removed 42 rows containing missing values\"\n",
      "Warning message in ggally_statistic(data = data, mapping = mapping, na.rm = na.rm, :\n",
      "\"Removed 37 rows containing missing values\"\n",
      "Warning message in ggally_statistic(data = data, mapping = mapping, na.rm = na.rm, :\n",
      "\"Removed 37 rows containing missing values\"\n",
      "Warning message in ggally_statistic(data = data, mapping = mapping, na.rm = na.rm, :\n",
      "\"Removed 37 rows containing missing values\"\n",
      "Warning message in ggally_statistic(data = data, mapping = mapping, na.rm = na.rm, :\n",
      "\"Removed 37 rows containing missing values\"\n",
      "Warning message:\n",
      "\"Removed 42 rows containing missing values (geom_point).\"\n",
      "Warning message:\n",
      "\"Removed 7 rows containing non-finite values (stat_density).\"\n",
      "Warning message in ggally_statistic(data = data, mapping = mapping, na.rm = na.rm, :\n",
      "\"Removed 7 rows containing missing values\"\n",
      "Warning message in ggally_statistic(data = data, mapping = mapping, na.rm = na.rm, :\n",
      "\"Removed 7 rows containing missing values\"\n",
      "Warning message in ggally_statistic(data = data, mapping = mapping, na.rm = na.rm, :\n",
      "\"Removed 7 rows containing missing values\"\n",
      "Warning message in ggally_statistic(data = data, mapping = mapping, na.rm = na.rm, :\n",
      "\"Removed 7 rows containing missing values\"\n",
      "Warning message:\n",
      "\"Removed 37 rows containing missing values (geom_point).\"\n",
      "Warning message:\n",
      "\"Removed 7 rows containing missing values (geom_point).\"\n",
      "Warning message:\n",
      "\"Removed 37 rows containing missing values (geom_point).\"\n",
      "Warning message:\n",
      "\"Removed 7 rows containing missing values (geom_point).\"\n",
      "Warning message:\n",
      "\"Removed 37 rows containing missing values (geom_point).\"\n",
      "Warning message:\n",
      "\"Removed 7 rows containing missing values (geom_point).\"\n",
      "Warning message:\n",
      "\"Removed 37 rows containing missing values (geom_point).\"\n",
      "Warning message:\n",
      "\"Removed 7 rows containing missing values (geom_point).\"\n"
     ]
    },
    {
     "data": {
      "image/png": "[encoded data removed]",
      "text/plain": [
       "plot without title"
      ]
     },
     "metadata": {
      "image/png": {
       "height": 420,
       "width": 420
      }
     },
     "output_type": "display_data"
    }
   ],
   "source": [
    "library(GGally)\n",
    "ggpairs(airquality)"
   ]
  },
  {
   "cell_type": "markdown",
   "metadata": {},
   "source": [
    "Lets say we want to extract the air quality levels on pay days, usually can be 15$^{th}$ or 30$^{th}$ day of the month"
   ]
  },
  {
   "cell_type": "code",
   "execution_count": 23,
   "metadata": {},
   "outputs": [
    {
     "data": {
      "text/html": [
       "<table>\n",
       "<caption>A data.frame: 10 × 6</caption>\n",
       "<thead>\n",
       "\t<tr><th></th><th scope=col>Ozone</th><th scope=col>Solar.R</th><th scope=col>Wind</th><th scope=col>Temp</th><th scope=col>Month</th><th scope=col>Day</th></tr>\n",
       "\t<tr><th></th><th scope=col>&lt;int&gt;</th><th scope=col>&lt;int&gt;</th><th scope=col>&lt;dbl&gt;</th><th scope=col>&lt;int&gt;</th><th scope=col>&lt;int&gt;</th><th scope=col>&lt;int&gt;</th></tr>\n",
       "</thead>\n",
       "<tbody>\n",
       "\t<tr><th scope=row>15</th><td> 18</td><td> 65</td><td>13.2</td><td>58</td><td>5</td><td>15</td></tr>\n",
       "\t<tr><th scope=row>30</th><td>115</td><td>223</td><td> 5.7</td><td>79</td><td>5</td><td>30</td></tr>\n",
       "\t<tr><th scope=row>46</th><td> NA</td><td>322</td><td>11.5</td><td>79</td><td>6</td><td>15</td></tr>\n",
       "\t<tr><th scope=row>61</th><td> NA</td><td>138</td><td> 8.0</td><td>83</td><td>6</td><td>30</td></tr>\n",
       "\t<tr><th scope=row>76</th><td>  7</td><td> 48</td><td>14.3</td><td>80</td><td>7</td><td>15</td></tr>\n",
       "\t<tr><th scope=row>91</th><td> 64</td><td>253</td><td> 7.4</td><td>83</td><td>7</td><td>30</td></tr>\n",
       "\t<tr><th scope=row>107</th><td> NA</td><td> 64</td><td>11.5</td><td>79</td><td>8</td><td>15</td></tr>\n",
       "\t<tr><th scope=row>122</th><td> 84</td><td>237</td><td> 6.3</td><td>96</td><td>8</td><td>30</td></tr>\n",
       "\t<tr><th scope=row>138</th><td> 13</td><td>112</td><td>11.5</td><td>71</td><td>9</td><td>15</td></tr>\n",
       "\t<tr><th scope=row>153</th><td> 20</td><td>223</td><td>11.5</td><td>68</td><td>9</td><td>30</td></tr>\n",
       "</tbody>\n",
       "</table>\n"
      ],
      "text/latex": [
       "A data.frame: 10 × 6\n",
       "\\begin{tabular}{r|llllll}\n",
       "  & Ozone & Solar.R & Wind & Temp & Month & Day\\\\\n",
       "  & <int> & <int> & <dbl> & <int> & <int> & <int>\\\\\n",
       "\\hline\n",
       "\t15 &  18 &  65 & 13.2 & 58 & 5 & 15\\\\\n",
       "\t30 & 115 & 223 &  5.7 & 79 & 5 & 30\\\\\n",
       "\t46 &  NA & 322 & 11.5 & 79 & 6 & 15\\\\\n",
       "\t61 &  NA & 138 &  8.0 & 83 & 6 & 30\\\\\n",
       "\t76 &   7 &  48 & 14.3 & 80 & 7 & 15\\\\\n",
       "\t91 &  64 & 253 &  7.4 & 83 & 7 & 30\\\\\n",
       "\t107 &  NA &  64 & 11.5 & 79 & 8 & 15\\\\\n",
       "\t122 &  84 & 237 &  6.3 & 96 & 8 & 30\\\\\n",
       "\t138 &  13 & 112 & 11.5 & 71 & 9 & 15\\\\\n",
       "\t153 &  20 & 223 & 11.5 & 68 & 9 & 30\\\\\n",
       "\\end{tabular}\n"
      ],
      "text/markdown": [
       "\n",
       "A data.frame: 10 × 6\n",
       "\n",
       "| <!--/--> | Ozone &lt;int&gt; | Solar.R &lt;int&gt; | Wind &lt;dbl&gt; | Temp &lt;int&gt; | Month &lt;int&gt; | Day &lt;int&gt; |\n",
       "|---|---|---|---|---|---|---|\n",
       "| 15 |  18 |  65 | 13.2 | 58 | 5 | 15 |\n",
       "| 30 | 115 | 223 |  5.7 | 79 | 5 | 30 |\n",
       "| 46 |  NA | 322 | 11.5 | 79 | 6 | 15 |\n",
       "| 61 |  NA | 138 |  8.0 | 83 | 6 | 30 |\n",
       "| 76 |   7 |  48 | 14.3 | 80 | 7 | 15 |\n",
       "| 91 |  64 | 253 |  7.4 | 83 | 7 | 30 |\n",
       "| 107 |  NA |  64 | 11.5 | 79 | 8 | 15 |\n",
       "| 122 |  84 | 237 |  6.3 | 96 | 8 | 30 |\n",
       "| 138 |  13 | 112 | 11.5 | 71 | 9 | 15 |\n",
       "| 153 |  20 | 223 | 11.5 | 68 | 9 | 30 |\n",
       "\n"
      ],
      "text/plain": [
       "    Ozone Solar.R Wind Temp Month Day\n",
       "15   18    65     13.2 58   5     15 \n",
       "30  115   223      5.7 79   5     30 \n",
       "46   NA   322     11.5 79   6     15 \n",
       "61   NA   138      8.0 83   6     30 \n",
       "76    7    48     14.3 80   7     15 \n",
       "91   64   253      7.4 83   7     30 \n",
       "107  NA    64     11.5 79   8     15 \n",
       "122  84   237      6.3 96   8     30 \n",
       "138  13   112     11.5 71   9     15 \n",
       "153  20   223     11.5 68   9     30 "
      ]
     },
     "metadata": {},
     "output_type": "display_data"
    }
   ],
   "source": [
    "pay_days <- airquality[airquality$Day %in% c(15, 30),]\n",
    "pay_days"
   ]
  },
  {
   "cell_type": "code",
   "execution_count": 25,
   "metadata": {},
   "outputs": [
    {
     "data": {
      "text/plain": [
       "     Ozone           Solar.R            Wind            Temp           Month  \n",
       " Min.   :  7.00   Min.   : 48.00   Min.   : 5.70   Min.   :58.00   Min.   :5  \n",
       " 1st Qu.: 15.50   1st Qu.: 76.75   1st Qu.: 7.55   1st Qu.:73.00   1st Qu.:6  \n",
       " Median : 20.00   Median :180.50   Median :11.50   Median :79.00   Median :7  \n",
       " Mean   : 45.86   Mean   :168.50   Mean   :10.09   Mean   :77.60   Mean   :7  \n",
       " 3rd Qu.: 74.00   3rd Qu.:233.50   3rd Qu.:11.50   3rd Qu.:82.25   3rd Qu.:8  \n",
       " Max.   :115.00   Max.   :322.00   Max.   :14.30   Max.   :96.00   Max.   :9  \n",
       " NA's   :3                                                                    \n",
       "      Day      \n",
       " Min.   :15.0  \n",
       " 1st Qu.:15.0  \n",
       " Median :22.5  \n",
       " Mean   :22.5  \n",
       " 3rd Qu.:30.0  \n",
       " Max.   :30.0  \n",
       "               "
      ]
     },
     "metadata": {},
     "output_type": "display_data"
    }
   ],
   "source": [
    "summary(pay_days)"
   ]
  },
  {
   "cell_type": "code",
   "execution_count": 27,
   "metadata": {},
   "outputs": [
    {
     "data": {
      "text/html": [
       "<table>\n",
       "<caption>A matrix: 6 × 6 of type dbl</caption>\n",
       "<thead>\n",
       "\t<tr><th></th><th scope=col>Ozone</th><th scope=col>Solar.R</th><th scope=col>Wind</th><th scope=col>Temp</th><th scope=col>Month</th><th scope=col>Day</th></tr>\n",
       "</thead>\n",
       "<tbody>\n",
       "\t<tr><th scope=row>Ozone</th><td> 1</td><td>         NA</td><td>        NA</td><td>        NA</td><td>         NA</td><td>        NA</td></tr>\n",
       "\t<tr><th scope=row>Solar.R</th><td>NA</td><td> 1.00000000</td><td>-0.5557899</td><td> 0.3775087</td><td>-0.05087745</td><td> 0.5125166</td></tr>\n",
       "\t<tr><th scope=row>Wind</th><td>NA</td><td>-0.55578986</td><td> 1.0000000</td><td>-0.6267678</td><td> 0.16190508</td><td>-0.8137183</td></tr>\n",
       "\t<tr><th scope=row>Temp</th><td>NA</td><td> 0.37750871</td><td>-0.6267678</td><td> 1.0000000</td><td> 0.12475741</td><td> 0.4358948</td></tr>\n",
       "\t<tr><th scope=row>Month</th><td>NA</td><td>-0.05087745</td><td> 0.1619051</td><td> 0.1247574</td><td> 1.00000000</td><td> 0.0000000</td></tr>\n",
       "\t<tr><th scope=row>Day</th><td>NA</td><td> 0.51251664</td><td>-0.8137183</td><td> 0.4358948</td><td> 0.00000000</td><td> 1.0000000</td></tr>\n",
       "</tbody>\n",
       "</table>\n"
      ],
      "text/latex": [
       "A matrix: 6 × 6 of type dbl\n",
       "\\begin{tabular}{r|llllll}\n",
       "  & Ozone & Solar.R & Wind & Temp & Month & Day\\\\\n",
       "\\hline\n",
       "\tOzone &  1 &          NA &         NA &         NA &          NA &         NA\\\\\n",
       "\tSolar.R & NA &  1.00000000 & -0.5557899 &  0.3775087 & -0.05087745 &  0.5125166\\\\\n",
       "\tWind & NA & -0.55578986 &  1.0000000 & -0.6267678 &  0.16190508 & -0.8137183\\\\\n",
       "\tTemp & NA &  0.37750871 & -0.6267678 &  1.0000000 &  0.12475741 &  0.4358948\\\\\n",
       "\tMonth & NA & -0.05087745 &  0.1619051 &  0.1247574 &  1.00000000 &  0.0000000\\\\\n",
       "\tDay & NA &  0.51251664 & -0.8137183 &  0.4358948 &  0.00000000 &  1.0000000\\\\\n",
       "\\end{tabular}\n"
      ],
      "text/markdown": [
       "\n",
       "A matrix: 6 × 6 of type dbl\n",
       "\n",
       "| <!--/--> | Ozone | Solar.R | Wind | Temp | Month | Day |\n",
       "|---|---|---|---|---|---|---|\n",
       "| Ozone |  1 |          NA |         NA |         NA |          NA |         NA |\n",
       "| Solar.R | NA |  1.00000000 | -0.5557899 |  0.3775087 | -0.05087745 |  0.5125166 |\n",
       "| Wind | NA | -0.55578986 |  1.0000000 | -0.6267678 |  0.16190508 | -0.8137183 |\n",
       "| Temp | NA |  0.37750871 | -0.6267678 |  1.0000000 |  0.12475741 |  0.4358948 |\n",
       "| Month | NA | -0.05087745 |  0.1619051 |  0.1247574 |  1.00000000 |  0.0000000 |\n",
       "| Day | NA |  0.51251664 | -0.8137183 |  0.4358948 |  0.00000000 |  1.0000000 |\n",
       "\n"
      ],
      "text/plain": [
       "        Ozone Solar.R     Wind       Temp       Month       Day       \n",
       "Ozone    1             NA         NA         NA          NA         NA\n",
       "Solar.R NA     1.00000000 -0.5557899  0.3775087 -0.05087745  0.5125166\n",
       "Wind    NA    -0.55578986  1.0000000 -0.6267678  0.16190508 -0.8137183\n",
       "Temp    NA     0.37750871 -0.6267678  1.0000000  0.12475741  0.4358948\n",
       "Month   NA    -0.05087745  0.1619051  0.1247574  1.00000000  0.0000000\n",
       "Day     NA     0.51251664 -0.8137183  0.4358948  0.00000000  1.0000000"
      ]
     },
     "metadata": {},
     "output_type": "display_data"
    }
   ],
   "source": [
    "cor(pay_days)"
   ]
  },
  {
   "cell_type": "code",
   "execution_count": 42,
   "metadata": {},
   "outputs": [
    {
     "name": "stderr",
     "output_type": "stream",
     "text": [
      "Warning message:\n",
      "\"Removed 3 rows containing missing values (geom_point).\"\n"
     ]
    },
    {
     "data": {
      "image/png": "[encoded data removed]",
      "text/plain": [
       "plot without title"
      ]
     },
     "metadata": {
      "image/png": {
       "height": 420,
       "width": 420
      }
     },
     "output_type": "display_data"
    }
   ],
   "source": [
    "ggplot(data=pay_days, aes( x=Wind, y=Temp, size=Ozone, col=Solar.R)) + geom_point()"
   ]
  },
  {
   "cell_type": "code",
   "execution_count": 40,
   "metadata": {},
   "outputs": [
    {
     "name": "stderr",
     "output_type": "stream",
     "text": [
      "Warning message:\n",
      "\"Removed 3 rows containing non-finite values (stat_density).\"\n",
      "Warning message in ggally_statistic(data = data, mapping = mapping, na.rm = na.rm, :\n",
      "\"Removed 3 rows containing missing values\"\n",
      "Warning message in ggally_statistic(data = data, mapping = mapping, na.rm = na.rm, :\n",
      "\"Removed 3 rows containing missing values\"\n",
      "Warning message in ggally_statistic(data = data, mapping = mapping, na.rm = na.rm, :\n",
      "\"Removed 3 rows containing missing values\"\n",
      "Warning message in ggally_statistic(data = data, mapping = mapping, na.rm = na.rm, :\n",
      "\"Removed 3 rows containing missing values\"\n",
      "Warning message in ggally_statistic(data = data, mapping = mapping, na.rm = na.rm, :\n",
      "\"Removed 3 rows containing missing values\"\n",
      "Warning message:\n",
      "\"Removed 3 rows containing missing values (geom_point).\"\n",
      "Warning message:\n",
      "\"Removed 3 rows containing missing values (geom_point).\"\n",
      "Warning message:\n",
      "\"Removed 3 rows containing missing values (geom_point).\"\n",
      "Warning message:\n",
      "\"Removed 3 rows containing missing values (geom_point).\"\n",
      "Warning message:\n",
      "\"Removed 3 rows containing missing values (geom_point).\"\n"
     ]
    },
    {
     "data": {
      "image/png": "[encoded data removed]",
      "text/plain": [
       "plot without title"
      ]
     },
     "metadata": {
      "image/png": {
       "height": 420,
       "width": 420
      }
     },
     "output_type": "display_data"
    }
   ],
   "source": [
    "library(GGally)\n",
    "ggpairs(pay_days)"
   ]
  },
  {
   "cell_type": "markdown",
   "metadata": {},
   "source": [
    "As we can see above, theres no direct correlation between pay days and the air quality"
   ]
  },
  {
   "cell_type": "code",
   "execution_count": null,
   "metadata": {},
   "outputs": [],
   "source": []
  }
 ],
 "metadata": {
  "kernelspec": {
   "display_name": "R",
   "language": "R",
   "name": "ir"
  },
  "language_info": {
   "codemirror_mode": "r",
   "file_extension": ".r",
   "mimetype": "text/x-r-source",
   "name": "R",
   "pygments_lexer": "r",
   "version": "4.0.2"
  }
 },
 "nbformat": 4,
 "nbformat_minor": 4
}
